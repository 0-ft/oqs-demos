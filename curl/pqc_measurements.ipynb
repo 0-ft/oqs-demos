{
 "cells": [
  {
   "cell_type": "code",
   "execution_count": 59,
   "metadata": {},
   "outputs": [],
   "source": [
    "\n",
    "import pandas as pd\n",
    "import numpy as np\n",
    "import plotly.express as px\n",
    "import itertools\n",
    "import subprocess\n",
    "import re\n",
    "import os\n",
    "from tqdm import tqdm\n",
    "\n",
    "DOCKER_IMAGE = \"oqs-curl\"\n",
    "RESULTS_FILE = \"results_{}.csv\"\n"
   ]
  },
  {
   "cell_type": "code",
   "execution_count": 15,
   "metadata": {},
   "outputs": [
    {
     "name": "stdout",
     "output_type": "stream",
     "text": [
      "Loaded 6 kem algorithms and 9 sig algorithms, 54 pairings\n"
     ]
    }
   ],
   "source": [
    "algorithms = pd.read_csv(\"algorithms.csv\")\n",
    "kem_algorithms = algorithms[algorithms[\"function\"] == \"kem\"]\n",
    "sig_algorithms = algorithms[algorithms[\"function\"] == \"sig\"]\n",
    "\n",
    "pairings = list(itertools.product(kem_algorithms[\"name\"], sig_algorithms[\"name\"]))\n",
    "print(f\"Loaded {len(kem_algorithms)} kem algorithms and {len(sig_algorithms)} sig algorithms, {len(pairings)} pairings\")"
   ]
  },
  {
   "cell_type": "code",
   "execution_count": 16,
   "metadata": {},
   "outputs": [],
   "source": [
    "def parse_output(output):\n",
    "    rows = []\n",
    "    for line in output.split(\"\\n\"):\n",
    "        line = line.strip().split(\":\")\n",
    "        if line[0] == \"+DTP\":\n",
    "            alg = line[1].lower()\n",
    "            op = line[2]\n",
    "        elif line[0].startswith(\"+R\"):\n",
    "            sec = float(line[3])\n",
    "            ops = int(line[1])\n",
    "            rows.append([alg, op, sec, ops])\n",
    "    df = pd.DataFrame(rows, columns=[\"alg\", \"op\", \"sec\", \"ops\"])\n",
    "    df[\"ops_per_sec\"] = df[\"ops\"] / df[\"sec\"]\n",
    "    return df"
   ]
  },
  {
   "cell_type": "code",
   "execution_count": 49,
   "metadata": {},
   "outputs": [],
   "source": [
    "def start_server(kem, sig):\n",
    "    kill_container(\"pqc-test-server\")\n",
    "    command =f\"docker run -d --rm --name pqc-test-server -e KEM_ALG={kem} -e SIG_ALG={sig} {DOCKER_IMAGE} openssl s_server -cert /opt/test/server.crt -key /opt/test/server.key -groups {kem} -www -tls1_3 -accept :4433&\"\n",
    "    result = subprocess.check_output(command, shell=True, text=True, stderr=subprocess.STDOUT)\n",
    "    print(f\"Server container ID: {result}\")\n",
    "    return result\n",
    "\n",
    "def kill_container(container_name):\n",
    "    command = f\"docker kill {container_name}\"\n",
    "    killed = subprocess.call(command, shell=True, text=True, stderr=subprocess.DEVNULL)\n",
    "    print(f\"Container {container_name}: {'Killed' if killed == 0 else 'Already dead'}\")"
   ]
  },
  {
   "cell_type": "code",
   "execution_count": 72,
   "metadata": {},
   "outputs": [],
   "source": [
    "def run_test(kem, sig, test_time=10):\n",
    "    try:\n",
    "        start_server(kem, sig)\n",
    "        command = f\"docker run --rm --name pqc-test-client --link pqc-test-server -e KEM_ALG={kem} -e SIG_ALG={sig} {DOCKER_IMAGE} openssl s_time -connect pqc-test-server:4433 -new -time {test_time} -verify 1 | grep connections\"\n",
    "        result = subprocess.check_output(command, shell=True, text=True, stderr=subprocess.STDOUT)\n",
    "        match = re.search(r\"; (\\d+\\.\\d+) connections/user sec\", result)\n",
    "        if not match:\n",
    "            raise ValueError(f\"No match found in result for KEM {kem} with SIG {sig}\")\n",
    "        connections_per_sec = float(match.group(1))\n",
    "        print(f\"KEM {kem} with SIG {sig} is {connections_per_sec} connections/user sec\")\n",
    "        return connections_per_sec\n",
    "    finally:\n",
    "        kill_container(\"pqc-test-client\")\n",
    "        kill_container(\"pqc-test-server\")"
   ]
  },
  {
   "cell_type": "code",
   "execution_count": 73,
   "metadata": {},
   "outputs": [
    {
     "name": "stdout",
     "output_type": "stream",
     "text": [
      "Skipping ('kyber512', 'falcon512') because it already exists\n",
      "Error response from daemon: cannot kill container: pqc-test-server: No such container: pqc-test-server\n",
      "Container pqc-test-server: Already dead\n",
      "Server container ID: ad11bb3a6f04bf57c0eb0f4e0adb00ec2c3a763a7602d5a7fe553a897c4969d7\n",
      "\n",
      "KEM kyber512 with SIG falcon1024 is 2703.48 connections/user sec\n",
      "Error response from daemon: cannot kill container: pqc-test-client: No such container: pqc-test-client\n",
      "Container pqc-test-client: Already dead\n",
      "pqc-test-server\n",
      "Container pqc-test-server: Killed\n",
      "Error response from daemon: cannot kill container: pqc-test-server: No such container: pqc-test-server\n",
      "Container pqc-test-server: Already dead\n",
      "Server container ID: 9dbd6f770474f25619693138c0dc0b6bc2090d17e8f0fbd1950efb219f370657\n",
      "\n",
      "KEM kyber512 with SIG p256_falcon512 is 2723.11 connections/user sec\n",
      "Error response from daemon: cannot kill container: pqc-test-client: No such container: pqc-test-client\n",
      "Container pqc-test-client: Already dead\n",
      "pqc-test-server\n",
      "Container pqc-test-server: Killed\n",
      "Error response from daemon: cannot kill container: pqc-test-server: No such container: pqc-test-server\n",
      "Container pqc-test-server: Already dead\n",
      "Server container ID: d83244166f4979c42342418c4137ff5c2145f715cedd5bb1242f6f6377853c82\n",
      "\n",
      "KEM kyber512 with SIG p512_falcon1024 is 2718.7 connections/user sec\n",
      "Error response from daemon: cannot kill container: pqc-test-client: No such container: pqc-test-client\n",
      "Container pqc-test-client: Already dead\n",
      "pqc-test-server\n",
      "Container pqc-test-server: Killed\n",
      "Error response from daemon: cannot kill container: pqc-test-server: No such container: pqc-test-server\n",
      "Container pqc-test-server: Already dead\n",
      "Server container ID: 8ec00421615839b6db69d6796ecb19666605b58fc9e974704c92ec2e6216789d\n",
      "\n",
      "KEM kyber512 with SIG dilithium2 is 2735.57 connections/user sec\n",
      "Error response from daemon: cannot kill container: pqc-test-client: No such container: pqc-test-client\n",
      "Container pqc-test-client: Already dead\n",
      "pqc-test-server\n",
      "Container pqc-test-server: Killed\n",
      "Error response from daemon: cannot kill container: pqc-test-server: No such container: pqc-test-server\n",
      "Container pqc-test-server: Already dead\n",
      "Server container ID: 82cd3894ee19c0f854fe922061f37dbd3c99cf10b8fd38c19f5f80b1584a8223\n",
      "\n",
      "KEM kyber512 with SIG dilithium3 is 2592.95 connections/user sec\n",
      "Error response from daemon: cannot kill container: pqc-test-client: No such container: pqc-test-client\n",
      "Container pqc-test-client: Already dead\n",
      "pqc-test-server\n",
      "Container pqc-test-server: Killed\n",
      "Error response from daemon: cannot kill container: pqc-test-server: No such container: pqc-test-server\n",
      "Container pqc-test-server: Already dead\n",
      "Server container ID: a95e13cc8b61292d9658b25ba34ab59170ee63f4dc5f9a4215a1607b3207daac\n",
      "\n",
      "KEM kyber512 with SIG p256_dilithium2 is 2525.9 connections/user sec\n",
      "Error response from daemon: cannot kill container: pqc-test-client: No such container: pqc-test-client\n",
      "Container pqc-test-client: Already dead\n",
      "pqc-test-server\n",
      "Container pqc-test-server: Killed\n",
      "Error response from daemon: cannot kill container: pqc-test-server: No such container: pqc-test-server\n",
      "Container pqc-test-server: Already dead\n",
      "Server container ID: 8788dd19a0eba6d3b67831241bf389504fc1074f91573564f0a70d7045b31b9f\n",
      "\n",
      "KEM kyber512 with SIG p384_dilithium3 is 2526.45 connections/user sec\n",
      "Error response from daemon: cannot kill container: pqc-test-client: No such container: pqc-test-client\n",
      "Container pqc-test-client: Already dead\n",
      "pqc-test-server\n",
      "Container pqc-test-server: Killed\n",
      "Error response from daemon: cannot kill container: pqc-test-server: No such container: pqc-test-server\n",
      "Container pqc-test-server: Already dead\n",
      "Server container ID: 2899b657a4f8740929939bc41acca9d729599699aefc56fc8b524e7c74b8b0b3\n",
      "\n",
      "KEM kyber512 with SIG ED25519 is 2595.81 connections/user sec\n",
      "Error response from daemon: cannot kill container: pqc-test-client: No such container: pqc-test-client\n",
      "Container pqc-test-client: Already dead\n",
      "pqc-test-server\n",
      "Container pqc-test-server: Killed\n",
      "Error response from daemon: cannot kill container: pqc-test-server: No such container: pqc-test-server\n",
      "Container pqc-test-server: Already dead\n",
      "Server container ID: de1e9f9e75a885dcb7ec4a2f9d3c639763c8c59a9fde380fa2b7678a0d8bce20\n",
      "\n",
      "KEM kyber768 with SIG falcon512 is 2668.39 connections/user sec\n",
      "Error response from daemon: cannot kill container: pqc-test-client: No such container: pqc-test-client\n",
      "Container pqc-test-client: Already dead\n",
      "pqc-test-server\n",
      "Container pqc-test-server: Killed\n",
      "Error response from daemon: cannot kill container: pqc-test-server: No such container: pqc-test-server\n",
      "Container pqc-test-server: Already dead\n",
      "Server container ID: 0b0ab787a6f97c0299135306681664b1d467b4edad899b4a6886afa196a56359\n",
      "\n",
      "KEM kyber768 with SIG falcon1024 is 2553.42 connections/user sec\n",
      "Error response from daemon: cannot kill container: pqc-test-client: No such container: pqc-test-client\n",
      "Container pqc-test-client: Already dead\n",
      "pqc-test-server\n",
      "Container pqc-test-server: Killed\n",
      "Error response from daemon: cannot kill container: pqc-test-server: No such container: pqc-test-server\n",
      "Container pqc-test-server: Already dead\n",
      "Server container ID: 623c1a0bd4a17afbc15fc0e3dc526f98e098a2aaecd44eaf7861e9adde417d33\n",
      "\n",
      "KEM kyber768 with SIG p256_falcon512 is 2600.0 connections/user sec\n",
      "Error response from daemon: cannot kill container: pqc-test-client: No such container: pqc-test-client\n",
      "Container pqc-test-client: Already dead\n",
      "pqc-test-server\n",
      "Container pqc-test-server: Killed\n",
      "Error response from daemon: cannot kill container: pqc-test-server: No such container: pqc-test-server\n",
      "Container pqc-test-server: Already dead\n",
      "Server container ID: c6a987cc6728e7d0ebb85efdb84931600c6d95da762e19c45d9489ddd169ede7\n",
      "\n",
      "KEM kyber768 with SIG p512_falcon1024 is 2521.62 connections/user sec\n",
      "Error response from daemon: cannot kill container: pqc-test-client: No such container: pqc-test-client\n",
      "Container pqc-test-client: Already dead\n",
      "pqc-test-server\n",
      "Container pqc-test-server: Killed\n",
      "Error response from daemon: cannot kill container: pqc-test-server: No such container: pqc-test-server\n",
      "Container pqc-test-server: Already dead\n",
      "Server container ID: a84fb49aa7867e81fcce31d37c42478eb11748f4697dd841eccca74417de0743\n",
      "\n",
      "KEM kyber768 with SIG dilithium2 is 2593.81 connections/user sec\n",
      "Error response from daemon: cannot kill container: pqc-test-client: No such container: pqc-test-client\n",
      "Container pqc-test-client: Already dead\n",
      "pqc-test-server\n",
      "Container pqc-test-server: Killed\n",
      "Error response from daemon: cannot kill container: pqc-test-server: No such container: pqc-test-server\n",
      "Container pqc-test-server: Already dead\n",
      "Server container ID: ae3625d8a23e94b9dfc3fc6b9cff173050d0265d600f3d9bfe9e9b3990a74342\n",
      "\n",
      "KEM kyber768 with SIG dilithium3 is 2618.37 connections/user sec\n",
      "Error response from daemon: cannot kill container: pqc-test-client: No such container: pqc-test-client\n",
      "Container pqc-test-client: Already dead\n",
      "pqc-test-server\n",
      "Container pqc-test-server: Killed\n",
      "Error response from daemon: cannot kill container: pqc-test-server: No such container: pqc-test-server\n",
      "Container pqc-test-server: Already dead\n",
      "Server container ID: 4fec015aaae465d66913af482207e73a0998d392707415d2cafa5bc3cf1729e6\n",
      "\n",
      "KEM kyber768 with SIG p256_dilithium2 is 2458.33 connections/user sec\n",
      "Error response from daemon: cannot kill container: pqc-test-client: No such container: pqc-test-client\n",
      "Container pqc-test-client: Already dead\n",
      "pqc-test-server\n",
      "Container pqc-test-server: Killed\n",
      "Error response from daemon: cannot kill container: pqc-test-server: No such container: pqc-test-server\n",
      "Container pqc-test-server: Already dead\n",
      "Server container ID: 028ab06c963d6844005dd1f156c14d6380bed63047ffb3baec20dd93f727d8f4\n",
      "\n",
      "KEM kyber768 with SIG p384_dilithium3 is 2760.33 connections/user sec\n",
      "Error response from daemon: cannot kill container: pqc-test-client: No such container: pqc-test-client\n",
      "Container pqc-test-client: Already dead\n",
      "pqc-test-server\n",
      "Container pqc-test-server: Killed\n",
      "Error response from daemon: cannot kill container: pqc-test-server: No such container: pqc-test-server\n",
      "Container pqc-test-server: Already dead\n",
      "Server container ID: 9688a9d185596f1564488713b284ba638e399432630aeaac6c27cfc302c81c49\n",
      "\n",
      "KEM kyber768 with SIG ED25519 is 2504.5 connections/user sec\n",
      "Error response from daemon: cannot kill container: pqc-test-client: No such container: pqc-test-client\n",
      "Container pqc-test-client: Already dead\n",
      "pqc-test-server\n",
      "Container pqc-test-server: Killed\n",
      "Error response from daemon: cannot kill container: pqc-test-server: No such container: pqc-test-server\n",
      "Container pqc-test-server: Already dead\n",
      "Server container ID: 3b1caf8fb9ef01da6694cc91edc741f8dba28fe2e7204f5e8d387458dae921df\n",
      "\n",
      "pqc-test-client\n",
      "Container pqc-test-client: Killed\n",
      "pqc-test-server\n",
      "Container pqc-test-server: Killed\n"
     ]
    },
    {
     "ename": "KeyboardInterrupt",
     "evalue": "",
     "output_type": "error",
     "traceback": [
      "\u001b[0;31m---------------------------------------------------------------------------\u001b[0m",
      "\u001b[0;31mKeyboardInterrupt\u001b[0m                         Traceback (most recent call last)",
      "Cell \u001b[0;32mIn[73], line 10\u001b[0m\n\u001b[1;32m      8\u001b[0m     \u001b[38;5;28mprint\u001b[39m(\u001b[38;5;124mf\u001b[39m\u001b[38;5;124m\"\u001b[39m\u001b[38;5;124mSkipping \u001b[39m\u001b[38;5;132;01m{\u001b[39;00mpairing\u001b[38;5;132;01m}\u001b[39;00m\u001b[38;5;124m because it already exists\u001b[39m\u001b[38;5;124m\"\u001b[39m)\n\u001b[1;32m      9\u001b[0m     \u001b[38;5;28;01mcontinue\u001b[39;00m\n\u001b[0;32m---> 10\u001b[0m connections_per_sec \u001b[38;5;241m=\u001b[39m \u001b[43mrun_test\u001b[49m\u001b[43m(\u001b[49m\u001b[38;5;241;43m*\u001b[39;49m\u001b[43mpairing\u001b[49m\u001b[43m)\u001b[49m\n\u001b[1;32m     11\u001b[0m new_row \u001b[38;5;241m=\u001b[39m pd\u001b[38;5;241m.\u001b[39mDataFrame([{\u001b[38;5;124m\"\u001b[39m\u001b[38;5;124mkem\u001b[39m\u001b[38;5;124m\"\u001b[39m: pairing[\u001b[38;5;241m0\u001b[39m], \u001b[38;5;124m\"\u001b[39m\u001b[38;5;124msig\u001b[39m\u001b[38;5;124m\"\u001b[39m: pairing[\u001b[38;5;241m1\u001b[39m], \u001b[38;5;124m\"\u001b[39m\u001b[38;5;124mops_per_sec\u001b[39m\u001b[38;5;124m\"\u001b[39m: connections_per_sec}])\n\u001b[1;32m     12\u001b[0m results \u001b[38;5;241m=\u001b[39m pd\u001b[38;5;241m.\u001b[39mconcat([results, new_row], ignore_index\u001b[38;5;241m=\u001b[39m\u001b[38;5;28;01mTrue\u001b[39;00m)\n",
      "Cell \u001b[0;32mIn[72], line 5\u001b[0m, in \u001b[0;36mrun_test\u001b[0;34m(kem, sig, test_time)\u001b[0m\n\u001b[1;32m      3\u001b[0m start_server(kem, sig)\n\u001b[1;32m      4\u001b[0m command \u001b[38;5;241m=\u001b[39m \u001b[38;5;124mf\u001b[39m\u001b[38;5;124m\"\u001b[39m\u001b[38;5;124mdocker run --rm --name pqc-test-client --link pqc-test-server -e KEM_ALG=\u001b[39m\u001b[38;5;132;01m{\u001b[39;00mkem\u001b[38;5;132;01m}\u001b[39;00m\u001b[38;5;124m -e SIG_ALG=\u001b[39m\u001b[38;5;132;01m{\u001b[39;00msig\u001b[38;5;132;01m}\u001b[39;00m\u001b[38;5;124m \u001b[39m\u001b[38;5;132;01m{\u001b[39;00mDOCKER_IMAGE\u001b[38;5;132;01m}\u001b[39;00m\u001b[38;5;124m openssl s_time -connect pqc-test-server:4433 -new -time \u001b[39m\u001b[38;5;132;01m{\u001b[39;00mtest_time\u001b[38;5;132;01m}\u001b[39;00m\u001b[38;5;124m -verify 1 | grep connections\u001b[39m\u001b[38;5;124m\"\u001b[39m\n\u001b[0;32m----> 5\u001b[0m result \u001b[38;5;241m=\u001b[39m \u001b[43msubprocess\u001b[49m\u001b[38;5;241;43m.\u001b[39;49m\u001b[43mcheck_output\u001b[49m\u001b[43m(\u001b[49m\u001b[43mcommand\u001b[49m\u001b[43m,\u001b[49m\u001b[43m \u001b[49m\u001b[43mshell\u001b[49m\u001b[38;5;241;43m=\u001b[39;49m\u001b[38;5;28;43;01mTrue\u001b[39;49;00m\u001b[43m,\u001b[49m\u001b[43m \u001b[49m\u001b[43mtext\u001b[49m\u001b[38;5;241;43m=\u001b[39;49m\u001b[38;5;28;43;01mTrue\u001b[39;49;00m\u001b[43m,\u001b[49m\u001b[43m \u001b[49m\u001b[43mstderr\u001b[49m\u001b[38;5;241;43m=\u001b[39;49m\u001b[43msubprocess\u001b[49m\u001b[38;5;241;43m.\u001b[39;49m\u001b[43mSTDOUT\u001b[49m\u001b[43m)\u001b[49m\n\u001b[1;32m      6\u001b[0m match \u001b[38;5;241m=\u001b[39m re\u001b[38;5;241m.\u001b[39msearch(\u001b[38;5;124mr\u001b[39m\u001b[38;5;124m\"\u001b[39m\u001b[38;5;124m; (\u001b[39m\u001b[38;5;124m\\\u001b[39m\u001b[38;5;124md+\u001b[39m\u001b[38;5;124m\\\u001b[39m\u001b[38;5;124m.\u001b[39m\u001b[38;5;124m\\\u001b[39m\u001b[38;5;124md+) connections/user sec\u001b[39m\u001b[38;5;124m\"\u001b[39m, result)\n\u001b[1;32m      7\u001b[0m \u001b[38;5;28;01mif\u001b[39;00m \u001b[38;5;129;01mnot\u001b[39;00m match:\n",
      "File \u001b[0;32m~/miniconda3/envs/lc2/lib/python3.12/subprocess.py:466\u001b[0m, in \u001b[0;36mcheck_output\u001b[0;34m(timeout, *popenargs, **kwargs)\u001b[0m\n\u001b[1;32m    463\u001b[0m         empty \u001b[38;5;241m=\u001b[39m \u001b[38;5;124mb\u001b[39m\u001b[38;5;124m'\u001b[39m\u001b[38;5;124m'\u001b[39m\n\u001b[1;32m    464\u001b[0m     kwargs[\u001b[38;5;124m'\u001b[39m\u001b[38;5;124minput\u001b[39m\u001b[38;5;124m'\u001b[39m] \u001b[38;5;241m=\u001b[39m empty\n\u001b[0;32m--> 466\u001b[0m \u001b[38;5;28;01mreturn\u001b[39;00m \u001b[43mrun\u001b[49m\u001b[43m(\u001b[49m\u001b[38;5;241;43m*\u001b[39;49m\u001b[43mpopenargs\u001b[49m\u001b[43m,\u001b[49m\u001b[43m \u001b[49m\u001b[43mstdout\u001b[49m\u001b[38;5;241;43m=\u001b[39;49m\u001b[43mPIPE\u001b[49m\u001b[43m,\u001b[49m\u001b[43m \u001b[49m\u001b[43mtimeout\u001b[49m\u001b[38;5;241;43m=\u001b[39;49m\u001b[43mtimeout\u001b[49m\u001b[43m,\u001b[49m\u001b[43m \u001b[49m\u001b[43mcheck\u001b[49m\u001b[38;5;241;43m=\u001b[39;49m\u001b[38;5;28;43;01mTrue\u001b[39;49;00m\u001b[43m,\u001b[49m\n\u001b[1;32m    467\u001b[0m \u001b[43m           \u001b[49m\u001b[38;5;241;43m*\u001b[39;49m\u001b[38;5;241;43m*\u001b[39;49m\u001b[43mkwargs\u001b[49m\u001b[43m)\u001b[49m\u001b[38;5;241m.\u001b[39mstdout\n",
      "File \u001b[0;32m~/miniconda3/envs/lc2/lib/python3.12/subprocess.py:550\u001b[0m, in \u001b[0;36mrun\u001b[0;34m(input, capture_output, timeout, check, *popenargs, **kwargs)\u001b[0m\n\u001b[1;32m    548\u001b[0m \u001b[38;5;28;01mwith\u001b[39;00m Popen(\u001b[38;5;241m*\u001b[39mpopenargs, \u001b[38;5;241m*\u001b[39m\u001b[38;5;241m*\u001b[39mkwargs) \u001b[38;5;28;01mas\u001b[39;00m process:\n\u001b[1;32m    549\u001b[0m     \u001b[38;5;28;01mtry\u001b[39;00m:\n\u001b[0;32m--> 550\u001b[0m         stdout, stderr \u001b[38;5;241m=\u001b[39m \u001b[43mprocess\u001b[49m\u001b[38;5;241;43m.\u001b[39;49m\u001b[43mcommunicate\u001b[49m\u001b[43m(\u001b[49m\u001b[38;5;28;43minput\u001b[39;49m\u001b[43m,\u001b[49m\u001b[43m \u001b[49m\u001b[43mtimeout\u001b[49m\u001b[38;5;241;43m=\u001b[39;49m\u001b[43mtimeout\u001b[49m\u001b[43m)\u001b[49m\n\u001b[1;32m    551\u001b[0m     \u001b[38;5;28;01mexcept\u001b[39;00m TimeoutExpired \u001b[38;5;28;01mas\u001b[39;00m exc:\n\u001b[1;32m    552\u001b[0m         process\u001b[38;5;241m.\u001b[39mkill()\n",
      "File \u001b[0;32m~/miniconda3/envs/lc2/lib/python3.12/subprocess.py:1196\u001b[0m, in \u001b[0;36mPopen.communicate\u001b[0;34m(self, input, timeout)\u001b[0m\n\u001b[1;32m   1194\u001b[0m     \u001b[38;5;28mself\u001b[39m\u001b[38;5;241m.\u001b[39m_stdin_write(\u001b[38;5;28minput\u001b[39m)\n\u001b[1;32m   1195\u001b[0m \u001b[38;5;28;01melif\u001b[39;00m \u001b[38;5;28mself\u001b[39m\u001b[38;5;241m.\u001b[39mstdout:\n\u001b[0;32m-> 1196\u001b[0m     stdout \u001b[38;5;241m=\u001b[39m \u001b[38;5;28;43mself\u001b[39;49m\u001b[38;5;241;43m.\u001b[39;49m\u001b[43mstdout\u001b[49m\u001b[38;5;241;43m.\u001b[39;49m\u001b[43mread\u001b[49m\u001b[43m(\u001b[49m\u001b[43m)\u001b[49m\n\u001b[1;32m   1197\u001b[0m     \u001b[38;5;28mself\u001b[39m\u001b[38;5;241m.\u001b[39mstdout\u001b[38;5;241m.\u001b[39mclose()\n\u001b[1;32m   1198\u001b[0m \u001b[38;5;28;01melif\u001b[39;00m \u001b[38;5;28mself\u001b[39m\u001b[38;5;241m.\u001b[39mstderr:\n",
      "\u001b[0;31mKeyboardInterrupt\u001b[0m: "
     ]
    }
   ],
   "source": [
    "PLATFORM = \"i7\"\n",
    "if not os.path.exists(RESULTS_FILE.format(PLATFORM)):\n",
    "    results = pd.DataFrame(columns=[\"kem\", \"sig\", \"ops_per_sec\"])\n",
    "else:\n",
    "    results = pd.read_csv(RESULTS_FILE.format(PLATFORM))\n",
    "for pairing in tqdm(pairings):\n",
    "    if not results.loc[(results[\"kem\"] == pairing[0]) & (results[\"sig\"] == pairing[1])].empty:\n",
    "        print(f\"Skipping {pairing} because it already exists\")\n",
    "        continue\n",
    "    connections_per_sec = run_test(*pairing)\n",
    "    new_row = pd.DataFrame([{\"kem\": pairing[0], \"sig\": pairing[1], \"ops_per_sec\": connections_per_sec}])\n",
    "    results = pd.concat([results, new_row], ignore_index=True)\n",
    "    results.to_csv(RESULTS_FILE.format(PLATFORM), index=False)"
   ]
  },
  {
   "cell_type": "code",
   "execution_count": 74,
   "metadata": {},
   "outputs": [
    {
     "ename": "FileNotFoundError",
     "evalue": "[Errno 2] No such file or directory: 'results_rpi3b.csv'",
     "output_type": "error",
     "traceback": [
      "\u001b[0;31m---------------------------------------------------------------------------\u001b[0m",
      "\u001b[0;31mFileNotFoundError\u001b[0m                         Traceback (most recent call last)",
      "Cell \u001b[0;32mIn[74], line 3\u001b[0m\n\u001b[1;32m      1\u001b[0m results \u001b[38;5;241m=\u001b[39m []\n\u001b[1;32m      2\u001b[0m \u001b[38;5;28;01mfor\u001b[39;00m platform \u001b[38;5;129;01min\u001b[39;00m [\u001b[38;5;124m\"\u001b[39m\u001b[38;5;124mi7\u001b[39m\u001b[38;5;124m\"\u001b[39m, \u001b[38;5;124m\"\u001b[39m\u001b[38;5;124mrpi3b\u001b[39m\u001b[38;5;124m\"\u001b[39m]:\n\u001b[0;32m----> 3\u001b[0m     platform_results \u001b[38;5;241m=\u001b[39m \u001b[43mpd\u001b[49m\u001b[38;5;241;43m.\u001b[39;49m\u001b[43mread_csv\u001b[49m\u001b[43m(\u001b[49m\u001b[43mRESULTS_FILE\u001b[49m\u001b[38;5;241;43m.\u001b[39;49m\u001b[43mformat\u001b[49m\u001b[43m(\u001b[49m\u001b[43mplatform\u001b[49m\u001b[43m)\u001b[49m\u001b[43m)\u001b[49m\n\u001b[1;32m      4\u001b[0m     platform_results[\u001b[38;5;124m\"\u001b[39m\u001b[38;5;124mplatform\u001b[39m\u001b[38;5;124m\"\u001b[39m] \u001b[38;5;241m=\u001b[39m platform\n\u001b[1;32m      5\u001b[0m     results\u001b[38;5;241m.\u001b[39mappend(platform_results)\n",
      "File \u001b[0;32m~/miniconda3/envs/lc2/lib/python3.12/site-packages/pandas/io/parsers/readers.py:1026\u001b[0m, in \u001b[0;36mread_csv\u001b[0;34m(filepath_or_buffer, sep, delimiter, header, names, index_col, usecols, dtype, engine, converters, true_values, false_values, skipinitialspace, skiprows, skipfooter, nrows, na_values, keep_default_na, na_filter, verbose, skip_blank_lines, parse_dates, infer_datetime_format, keep_date_col, date_parser, date_format, dayfirst, cache_dates, iterator, chunksize, compression, thousands, decimal, lineterminator, quotechar, quoting, doublequote, escapechar, comment, encoding, encoding_errors, dialect, on_bad_lines, delim_whitespace, low_memory, memory_map, float_precision, storage_options, dtype_backend)\u001b[0m\n\u001b[1;32m   1013\u001b[0m kwds_defaults \u001b[38;5;241m=\u001b[39m _refine_defaults_read(\n\u001b[1;32m   1014\u001b[0m     dialect,\n\u001b[1;32m   1015\u001b[0m     delimiter,\n\u001b[0;32m   (...)\u001b[0m\n\u001b[1;32m   1022\u001b[0m     dtype_backend\u001b[38;5;241m=\u001b[39mdtype_backend,\n\u001b[1;32m   1023\u001b[0m )\n\u001b[1;32m   1024\u001b[0m kwds\u001b[38;5;241m.\u001b[39mupdate(kwds_defaults)\n\u001b[0;32m-> 1026\u001b[0m \u001b[38;5;28;01mreturn\u001b[39;00m \u001b[43m_read\u001b[49m\u001b[43m(\u001b[49m\u001b[43mfilepath_or_buffer\u001b[49m\u001b[43m,\u001b[49m\u001b[43m \u001b[49m\u001b[43mkwds\u001b[49m\u001b[43m)\u001b[49m\n",
      "File \u001b[0;32m~/miniconda3/envs/lc2/lib/python3.12/site-packages/pandas/io/parsers/readers.py:620\u001b[0m, in \u001b[0;36m_read\u001b[0;34m(filepath_or_buffer, kwds)\u001b[0m\n\u001b[1;32m    617\u001b[0m _validate_names(kwds\u001b[38;5;241m.\u001b[39mget(\u001b[38;5;124m\"\u001b[39m\u001b[38;5;124mnames\u001b[39m\u001b[38;5;124m\"\u001b[39m, \u001b[38;5;28;01mNone\u001b[39;00m))\n\u001b[1;32m    619\u001b[0m \u001b[38;5;66;03m# Create the parser.\u001b[39;00m\n\u001b[0;32m--> 620\u001b[0m parser \u001b[38;5;241m=\u001b[39m \u001b[43mTextFileReader\u001b[49m\u001b[43m(\u001b[49m\u001b[43mfilepath_or_buffer\u001b[49m\u001b[43m,\u001b[49m\u001b[43m \u001b[49m\u001b[38;5;241;43m*\u001b[39;49m\u001b[38;5;241;43m*\u001b[39;49m\u001b[43mkwds\u001b[49m\u001b[43m)\u001b[49m\n\u001b[1;32m    622\u001b[0m \u001b[38;5;28;01mif\u001b[39;00m chunksize \u001b[38;5;129;01mor\u001b[39;00m iterator:\n\u001b[1;32m    623\u001b[0m     \u001b[38;5;28;01mreturn\u001b[39;00m parser\n",
      "File \u001b[0;32m~/miniconda3/envs/lc2/lib/python3.12/site-packages/pandas/io/parsers/readers.py:1620\u001b[0m, in \u001b[0;36mTextFileReader.__init__\u001b[0;34m(self, f, engine, **kwds)\u001b[0m\n\u001b[1;32m   1617\u001b[0m     \u001b[38;5;28mself\u001b[39m\u001b[38;5;241m.\u001b[39moptions[\u001b[38;5;124m\"\u001b[39m\u001b[38;5;124mhas_index_names\u001b[39m\u001b[38;5;124m\"\u001b[39m] \u001b[38;5;241m=\u001b[39m kwds[\u001b[38;5;124m\"\u001b[39m\u001b[38;5;124mhas_index_names\u001b[39m\u001b[38;5;124m\"\u001b[39m]\n\u001b[1;32m   1619\u001b[0m \u001b[38;5;28mself\u001b[39m\u001b[38;5;241m.\u001b[39mhandles: IOHandles \u001b[38;5;241m|\u001b[39m \u001b[38;5;28;01mNone\u001b[39;00m \u001b[38;5;241m=\u001b[39m \u001b[38;5;28;01mNone\u001b[39;00m\n\u001b[0;32m-> 1620\u001b[0m \u001b[38;5;28mself\u001b[39m\u001b[38;5;241m.\u001b[39m_engine \u001b[38;5;241m=\u001b[39m \u001b[38;5;28;43mself\u001b[39;49m\u001b[38;5;241;43m.\u001b[39;49m\u001b[43m_make_engine\u001b[49m\u001b[43m(\u001b[49m\u001b[43mf\u001b[49m\u001b[43m,\u001b[49m\u001b[43m \u001b[49m\u001b[38;5;28;43mself\u001b[39;49m\u001b[38;5;241;43m.\u001b[39;49m\u001b[43mengine\u001b[49m\u001b[43m)\u001b[49m\n",
      "File \u001b[0;32m~/miniconda3/envs/lc2/lib/python3.12/site-packages/pandas/io/parsers/readers.py:1880\u001b[0m, in \u001b[0;36mTextFileReader._make_engine\u001b[0;34m(self, f, engine)\u001b[0m\n\u001b[1;32m   1878\u001b[0m     \u001b[38;5;28;01mif\u001b[39;00m \u001b[38;5;124m\"\u001b[39m\u001b[38;5;124mb\u001b[39m\u001b[38;5;124m\"\u001b[39m \u001b[38;5;129;01mnot\u001b[39;00m \u001b[38;5;129;01min\u001b[39;00m mode:\n\u001b[1;32m   1879\u001b[0m         mode \u001b[38;5;241m+\u001b[39m\u001b[38;5;241m=\u001b[39m \u001b[38;5;124m\"\u001b[39m\u001b[38;5;124mb\u001b[39m\u001b[38;5;124m\"\u001b[39m\n\u001b[0;32m-> 1880\u001b[0m \u001b[38;5;28mself\u001b[39m\u001b[38;5;241m.\u001b[39mhandles \u001b[38;5;241m=\u001b[39m \u001b[43mget_handle\u001b[49m\u001b[43m(\u001b[49m\n\u001b[1;32m   1881\u001b[0m \u001b[43m    \u001b[49m\u001b[43mf\u001b[49m\u001b[43m,\u001b[49m\n\u001b[1;32m   1882\u001b[0m \u001b[43m    \u001b[49m\u001b[43mmode\u001b[49m\u001b[43m,\u001b[49m\n\u001b[1;32m   1883\u001b[0m \u001b[43m    \u001b[49m\u001b[43mencoding\u001b[49m\u001b[38;5;241;43m=\u001b[39;49m\u001b[38;5;28;43mself\u001b[39;49m\u001b[38;5;241;43m.\u001b[39;49m\u001b[43moptions\u001b[49m\u001b[38;5;241;43m.\u001b[39;49m\u001b[43mget\u001b[49m\u001b[43m(\u001b[49m\u001b[38;5;124;43m\"\u001b[39;49m\u001b[38;5;124;43mencoding\u001b[39;49m\u001b[38;5;124;43m\"\u001b[39;49m\u001b[43m,\u001b[49m\u001b[43m \u001b[49m\u001b[38;5;28;43;01mNone\u001b[39;49;00m\u001b[43m)\u001b[49m\u001b[43m,\u001b[49m\n\u001b[1;32m   1884\u001b[0m \u001b[43m    \u001b[49m\u001b[43mcompression\u001b[49m\u001b[38;5;241;43m=\u001b[39;49m\u001b[38;5;28;43mself\u001b[39;49m\u001b[38;5;241;43m.\u001b[39;49m\u001b[43moptions\u001b[49m\u001b[38;5;241;43m.\u001b[39;49m\u001b[43mget\u001b[49m\u001b[43m(\u001b[49m\u001b[38;5;124;43m\"\u001b[39;49m\u001b[38;5;124;43mcompression\u001b[39;49m\u001b[38;5;124;43m\"\u001b[39;49m\u001b[43m,\u001b[49m\u001b[43m \u001b[49m\u001b[38;5;28;43;01mNone\u001b[39;49;00m\u001b[43m)\u001b[49m\u001b[43m,\u001b[49m\n\u001b[1;32m   1885\u001b[0m \u001b[43m    \u001b[49m\u001b[43mmemory_map\u001b[49m\u001b[38;5;241;43m=\u001b[39;49m\u001b[38;5;28;43mself\u001b[39;49m\u001b[38;5;241;43m.\u001b[39;49m\u001b[43moptions\u001b[49m\u001b[38;5;241;43m.\u001b[39;49m\u001b[43mget\u001b[49m\u001b[43m(\u001b[49m\u001b[38;5;124;43m\"\u001b[39;49m\u001b[38;5;124;43mmemory_map\u001b[39;49m\u001b[38;5;124;43m\"\u001b[39;49m\u001b[43m,\u001b[49m\u001b[43m \u001b[49m\u001b[38;5;28;43;01mFalse\u001b[39;49;00m\u001b[43m)\u001b[49m\u001b[43m,\u001b[49m\n\u001b[1;32m   1886\u001b[0m \u001b[43m    \u001b[49m\u001b[43mis_text\u001b[49m\u001b[38;5;241;43m=\u001b[39;49m\u001b[43mis_text\u001b[49m\u001b[43m,\u001b[49m\n\u001b[1;32m   1887\u001b[0m \u001b[43m    \u001b[49m\u001b[43merrors\u001b[49m\u001b[38;5;241;43m=\u001b[39;49m\u001b[38;5;28;43mself\u001b[39;49m\u001b[38;5;241;43m.\u001b[39;49m\u001b[43moptions\u001b[49m\u001b[38;5;241;43m.\u001b[39;49m\u001b[43mget\u001b[49m\u001b[43m(\u001b[49m\u001b[38;5;124;43m\"\u001b[39;49m\u001b[38;5;124;43mencoding_errors\u001b[39;49m\u001b[38;5;124;43m\"\u001b[39;49m\u001b[43m,\u001b[49m\u001b[43m \u001b[49m\u001b[38;5;124;43m\"\u001b[39;49m\u001b[38;5;124;43mstrict\u001b[39;49m\u001b[38;5;124;43m\"\u001b[39;49m\u001b[43m)\u001b[49m\u001b[43m,\u001b[49m\n\u001b[1;32m   1888\u001b[0m \u001b[43m    \u001b[49m\u001b[43mstorage_options\u001b[49m\u001b[38;5;241;43m=\u001b[39;49m\u001b[38;5;28;43mself\u001b[39;49m\u001b[38;5;241;43m.\u001b[39;49m\u001b[43moptions\u001b[49m\u001b[38;5;241;43m.\u001b[39;49m\u001b[43mget\u001b[49m\u001b[43m(\u001b[49m\u001b[38;5;124;43m\"\u001b[39;49m\u001b[38;5;124;43mstorage_options\u001b[39;49m\u001b[38;5;124;43m\"\u001b[39;49m\u001b[43m,\u001b[49m\u001b[43m \u001b[49m\u001b[38;5;28;43;01mNone\u001b[39;49;00m\u001b[43m)\u001b[49m\u001b[43m,\u001b[49m\n\u001b[1;32m   1889\u001b[0m \u001b[43m\u001b[49m\u001b[43m)\u001b[49m\n\u001b[1;32m   1890\u001b[0m \u001b[38;5;28;01massert\u001b[39;00m \u001b[38;5;28mself\u001b[39m\u001b[38;5;241m.\u001b[39mhandles \u001b[38;5;129;01mis\u001b[39;00m \u001b[38;5;129;01mnot\u001b[39;00m \u001b[38;5;28;01mNone\u001b[39;00m\n\u001b[1;32m   1891\u001b[0m f \u001b[38;5;241m=\u001b[39m \u001b[38;5;28mself\u001b[39m\u001b[38;5;241m.\u001b[39mhandles\u001b[38;5;241m.\u001b[39mhandle\n",
      "File \u001b[0;32m~/miniconda3/envs/lc2/lib/python3.12/site-packages/pandas/io/common.py:873\u001b[0m, in \u001b[0;36mget_handle\u001b[0;34m(path_or_buf, mode, encoding, compression, memory_map, is_text, errors, storage_options)\u001b[0m\n\u001b[1;32m    868\u001b[0m \u001b[38;5;28;01melif\u001b[39;00m \u001b[38;5;28misinstance\u001b[39m(handle, \u001b[38;5;28mstr\u001b[39m):\n\u001b[1;32m    869\u001b[0m     \u001b[38;5;66;03m# Check whether the filename is to be opened in binary mode.\u001b[39;00m\n\u001b[1;32m    870\u001b[0m     \u001b[38;5;66;03m# Binary mode does not support 'encoding' and 'newline'.\u001b[39;00m\n\u001b[1;32m    871\u001b[0m     \u001b[38;5;28;01mif\u001b[39;00m ioargs\u001b[38;5;241m.\u001b[39mencoding \u001b[38;5;129;01mand\u001b[39;00m \u001b[38;5;124m\"\u001b[39m\u001b[38;5;124mb\u001b[39m\u001b[38;5;124m\"\u001b[39m \u001b[38;5;129;01mnot\u001b[39;00m \u001b[38;5;129;01min\u001b[39;00m ioargs\u001b[38;5;241m.\u001b[39mmode:\n\u001b[1;32m    872\u001b[0m         \u001b[38;5;66;03m# Encoding\u001b[39;00m\n\u001b[0;32m--> 873\u001b[0m         handle \u001b[38;5;241m=\u001b[39m \u001b[38;5;28;43mopen\u001b[39;49m\u001b[43m(\u001b[49m\n\u001b[1;32m    874\u001b[0m \u001b[43m            \u001b[49m\u001b[43mhandle\u001b[49m\u001b[43m,\u001b[49m\n\u001b[1;32m    875\u001b[0m \u001b[43m            \u001b[49m\u001b[43mioargs\u001b[49m\u001b[38;5;241;43m.\u001b[39;49m\u001b[43mmode\u001b[49m\u001b[43m,\u001b[49m\n\u001b[1;32m    876\u001b[0m \u001b[43m            \u001b[49m\u001b[43mencoding\u001b[49m\u001b[38;5;241;43m=\u001b[39;49m\u001b[43mioargs\u001b[49m\u001b[38;5;241;43m.\u001b[39;49m\u001b[43mencoding\u001b[49m\u001b[43m,\u001b[49m\n\u001b[1;32m    877\u001b[0m \u001b[43m            \u001b[49m\u001b[43merrors\u001b[49m\u001b[38;5;241;43m=\u001b[39;49m\u001b[43merrors\u001b[49m\u001b[43m,\u001b[49m\n\u001b[1;32m    878\u001b[0m \u001b[43m            \u001b[49m\u001b[43mnewline\u001b[49m\u001b[38;5;241;43m=\u001b[39;49m\u001b[38;5;124;43m\"\u001b[39;49m\u001b[38;5;124;43m\"\u001b[39;49m\u001b[43m,\u001b[49m\n\u001b[1;32m    879\u001b[0m \u001b[43m        \u001b[49m\u001b[43m)\u001b[49m\n\u001b[1;32m    880\u001b[0m     \u001b[38;5;28;01melse\u001b[39;00m:\n\u001b[1;32m    881\u001b[0m         \u001b[38;5;66;03m# Binary mode\u001b[39;00m\n\u001b[1;32m    882\u001b[0m         handle \u001b[38;5;241m=\u001b[39m \u001b[38;5;28mopen\u001b[39m(handle, ioargs\u001b[38;5;241m.\u001b[39mmode)\n",
      "\u001b[0;31mFileNotFoundError\u001b[0m: [Errno 2] No such file or directory: 'results_rpi3b.csv'"
     ]
    }
   ],
   "source": [
    "results = []\n",
    "for platform in [\"i7\", \"rpi3b\"]:\n",
    "    platform_results = pd.read_csv(RESULTS_FILE.format(platform))\n",
    "    platform_results[\"platform\"] = platform\n",
    "    results.append(platform_results)\n",
    "results = pd.concat(results)\n",
    "results"
   ]
  },
  {
   "cell_type": "code",
   "execution_count": 1,
   "metadata": {},
   "outputs": [
    {
     "ename": "NameError",
     "evalue": "name 'itertools' is not defined",
     "output_type": "error",
     "traceback": [
      "\u001b[0;31m---------------------------------------------------------------------------\u001b[0m",
      "\u001b[0;31mNameError\u001b[0m                                 Traceback (most recent call last)",
      "Cell \u001b[0;32mIn[1], line 1\u001b[0m\n\u001b[0;32m----> 1\u001b[0m pairings \u001b[38;5;241m=\u001b[39m \u001b[43mitertools\u001b[49m\u001b[38;5;241m.\u001b[39mproduct([\u001b[38;5;124m\"\u001b[39m\u001b[38;5;124mkyber512\u001b[39m\u001b[38;5;124m\"\u001b[39m, \u001b[38;5;124m\"\u001b[39m\u001b[38;5;124mkyber768\u001b[39m\u001b[38;5;124m\"\u001b[39m, \u001b[38;5;124m\"\u001b[39m\u001b[38;5;124mkyber1024\u001b[39m\u001b[38;5;124m\"\u001b[39m, \u001b[38;5;124m\"\u001b[39m\u001b[38;5;124mx25519_kyber512\u001b[39m\u001b[38;5;124m\"\u001b[39m, \u001b[38;5;124m\"\u001b[39m\u001b[38;5;124mx25519_kyber768\u001b[39m\u001b[38;5;124m\"\u001b[39m, \u001b[38;5;124m\"\u001b[39m\u001b[38;5;124mX25519\u001b[39m\u001b[38;5;124m\"\u001b[39m], [\u001b[38;5;124m\"\u001b[39m\u001b[38;5;124mdilithium2\u001b[39m\u001b[38;5;124m\"\u001b[39m, \u001b[38;5;124m\"\u001b[39m\u001b[38;5;124mdilithium3\u001b[39m\u001b[38;5;124m\"\u001b[39m, \u001b[38;5;124m\"\u001b[39m\u001b[38;5;124mp256_dilithium2\u001b[39m\u001b[38;5;124m\"\u001b[39m, \u001b[38;5;124m\"\u001b[39m\u001b[38;5;124mp384_dilithium3\u001b[39m\u001b[38;5;124m\"\u001b[39m, \u001b[38;5;124m\"\u001b[39m\u001b[38;5;124mED25519\u001b[39m\u001b[38;5;124m\"\u001b[39m])\n\u001b[1;32m      3\u001b[0m recordings \u001b[38;5;241m=\u001b[39m []\n\u001b[1;32m      5\u001b[0m \u001b[38;5;28;01mfor\u001b[39;00m kem, sig \u001b[38;5;129;01min\u001b[39;00m pairings:\n",
      "\u001b[0;31mNameError\u001b[0m: name 'itertools' is not defined"
     ]
    }
   ],
   "source": [
    "\n",
    "KEM_ALGS = [\"kyber512\", \"kyber768\", \"kyber1024\", \"x25519_kyber512\", \"x25519_kyber768\", \"X25519\"]\n",
    "SIG_ALGS = [\"falcon512\", \"falcon1024\", \"p256_falcon512\", \"p512_falcon1024\", \"dilithium2\", \"dilithium3\", \"p256_dilithium2\", \"p384_dilithium3\", \"ED25519\"]\n",
    "pairings = itertools.product(KEM_ALGS, SIG_ALGS)\n",
    "\n",
    "recordings = []\n",
    "\n",
    "for kem, sig in pairings:\n",
    "    if os.path.exists(f\"results_{kem}_{sig}.txt\"):\n",
    "        print(f\"{kem} with {sig} already exists\")\n",
    "        result = open(f\"results_{kem}_{sig}.txt\").read()\n",
    "    else:\n",
    "        print(f\"Running {kem} with {sig}\")\n",
    "        command = f\"docker run -e TEST_TIME=8 -e KEM_ALG={kem} -e SIG_ALG={sig} oqs-curl perftest.sh\"\n",
    "        result = subprocess.check_output(command, shell=True, text=True)\n",
    "        with open(f\"results_{kem}_{sig}.txt\", \"w\") as f:\n",
    "            f.write(result)\n",
    "    match = re.search(r\"; (\\d+\\.\\d+) connections/user sec\", result)\n",
    "    if match:\n",
    "        pairing_performance = float(match.group(1))\n",
    "        print(f\"{kem} with {sig} is {pairing_performance}\")\n",
    "        recordings.append({\n",
    "            \"kem\": kem,\n",
    "            \"sig\": sig,\n",
    "            \"ops_per_sec\": pairing_performance\n",
    "        })\n",
    "\n",
    "recordings = pd.DataFrame(recordings)\n",
    "recordings[\"kem\"] = recordings[\"kem\"].str.lower()\n",
    "recordings[\"sig\"] = recordings[\"sig\"].str.lower()"
   ]
  },
  {
   "cell_type": "code",
   "execution_count": 4,
   "metadata": {},
   "outputs": [
    {
     "data": {
      "application/vnd.plotly.v1+json": {
       "config": {
        "plotlyServerURL": "https://plot.ly"
       },
       "data": [
        {
         "alignmentgroup": "True",
         "hovertemplate": "type=Pure PQ<br>name=%{text}<br>Handshakes/s (higher is better)=%{y}<extra></extra>",
         "legendgroup": "Pure PQ",
         "marker": {
          "color": "#636efa",
          "pattern": {
           "shape": ""
          }
         },
         "name": "Pure PQ",
         "offsetgroup": "Pure PQ",
         "orientation": "v",
         "showlegend": true,
         "text": [
          "dilithium2 / kyber512",
          "dilithium2 / kyber768",
          "dilithium2 / kyber1024",
          "dilithium3 / kyber512",
          "dilithium3 / kyber768",
          "dilithium3 / kyber1024"
         ],
         "textposition": "auto",
         "type": "bar",
         "x": [
          "dilithium2 / kyber512",
          "dilithium2 / kyber768",
          "dilithium2 / kyber1024",
          "dilithium3 / kyber512",
          "dilithium3 / kyber768",
          "dilithium3 / kyber1024"
         ],
         "xaxis": "x",
         "y": [
          4357.86,
          3958.01,
          3879.3,
          3869.93,
          3723.05,
          3513.47
         ],
         "yaxis": "y"
        },
        {
         "alignmentgroup": "True",
         "hovertemplate": "type=Traditional<br>name=%{text}<br>Handshakes/s (higher is better)=%{y}<extra></extra>",
         "legendgroup": "Traditional",
         "marker": {
          "color": "#EF553B",
          "pattern": {
           "shape": ""
          }
         },
         "name": "Traditional",
         "offsetgroup": "Traditional",
         "orientation": "v",
         "showlegend": true,
         "text": [
          "dilithium2 / x25519",
          "ed25519 / kyber512",
          "ed25519 / x25519",
          "ed25519 / kyber768",
          "dilithium3 / x25519",
          "ed25519 / kyber1024"
         ],
         "textposition": "auto",
         "type": "bar",
         "x": [
          "dilithium2 / x25519",
          "ed25519 / kyber512",
          "ed25519 / x25519",
          "ed25519 / kyber768",
          "dilithium3 / x25519",
          "ed25519 / kyber1024"
         ],
         "xaxis": "x",
         "y": [
          3857.96,
          3723.88,
          3314.69,
          3287.59,
          3176.86,
          3175.14
         ],
         "yaxis": "y"
        },
        {
         "alignmentgroup": "True",
         "hovertemplate": "type=Hybrid<br>name=%{text}<br>Handshakes/s (higher is better)=%{y}<extra></extra>",
         "legendgroup": "Hybrid",
         "marker": {
          "color": "#00cc96",
          "pattern": {
           "shape": ""
          }
         },
         "name": "Hybrid",
         "offsetgroup": "Hybrid",
         "orientation": "v",
         "showlegend": true,
         "text": [
          "dilithium3 / x25519_kyber512",
          "dilithium2 / x25519_kyber512",
          "dilithium3 / x25519_kyber768",
          "p256_dilithium2 / kyber512",
          "dilithium2 / x25519_kyber768",
          "p256_dilithium2 / x25519_kyber512",
          "p256_dilithium2 / kyber768",
          "ed25519 / x25519_kyber512",
          "p256_dilithium2 / kyber1024",
          "ed25519 / x25519_kyber768",
          "p256_dilithium2 / x25519",
          "p256_dilithium2 / x25519_kyber768",
          "p384_dilithium3 / kyber1024",
          "p384_dilithium3 / kyber768",
          "p384_dilithium3 / x25519",
          "p384_dilithium3 / x25519_kyber512",
          "p384_dilithium3 / kyber512",
          "p384_dilithium3 / x25519_kyber768"
         ],
         "textposition": "auto",
         "type": "bar",
         "x": [
          "dilithium3 / x25519_kyber512",
          "dilithium2 / x25519_kyber512",
          "dilithium3 / x25519_kyber768",
          "p256_dilithium2 / kyber512",
          "dilithium2 / x25519_kyber768",
          "p256_dilithium2 / x25519_kyber512",
          "p256_dilithium2 / kyber768",
          "ed25519 / x25519_kyber512",
          "p256_dilithium2 / kyber1024",
          "ed25519 / x25519_kyber768",
          "p256_dilithium2 / x25519",
          "p256_dilithium2 / x25519_kyber768",
          "p384_dilithium3 / kyber1024",
          "p384_dilithium3 / kyber768",
          "p384_dilithium3 / x25519",
          "p384_dilithium3 / x25519_kyber512",
          "p384_dilithium3 / kyber512",
          "p384_dilithium3 / x25519_kyber768"
         ],
         "xaxis": "x",
         "y": [
          3457.81,
          3297.27,
          2761.68,
          2691.55,
          2690.43,
          2664.46,
          2610.86,
          2597.47,
          2563.29,
          2492.46,
          2261.76,
          2236.65,
          1085.18,
          1072.26,
          1057.58,
          1028.6,
          1008,
          977.23
         ],
         "yaxis": "y"
        }
       ],
       "layout": {
        "autosize": false,
        "barmode": "relative",
        "height": 800,
        "legend": {
         "title": {
          "text": "Algorithm Type"
         },
         "tracegroupgap": 0
        },
        "margin": {
         "b": 0,
         "l": 0,
         "r": 0,
         "t": 0
        },
        "showlegend": true,
        "template": {
         "data": {
          "bar": [
           {
            "error_x": {
             "color": "#2a3f5f"
            },
            "error_y": {
             "color": "#2a3f5f"
            },
            "marker": {
             "line": {
              "color": "#E5ECF6",
              "width": 0.5
             },
             "pattern": {
              "fillmode": "overlay",
              "size": 10,
              "solidity": 0.2
             }
            },
            "type": "bar"
           }
          ],
          "barpolar": [
           {
            "marker": {
             "line": {
              "color": "#E5ECF6",
              "width": 0.5
             },
             "pattern": {
              "fillmode": "overlay",
              "size": 10,
              "solidity": 0.2
             }
            },
            "type": "barpolar"
           }
          ],
          "carpet": [
           {
            "aaxis": {
             "endlinecolor": "#2a3f5f",
             "gridcolor": "white",
             "linecolor": "white",
             "minorgridcolor": "white",
             "startlinecolor": "#2a3f5f"
            },
            "baxis": {
             "endlinecolor": "#2a3f5f",
             "gridcolor": "white",
             "linecolor": "white",
             "minorgridcolor": "white",
             "startlinecolor": "#2a3f5f"
            },
            "type": "carpet"
           }
          ],
          "choropleth": [
           {
            "colorbar": {
             "outlinewidth": 0,
             "ticks": ""
            },
            "type": "choropleth"
           }
          ],
          "contour": [
           {
            "colorbar": {
             "outlinewidth": 0,
             "ticks": ""
            },
            "colorscale": [
             [
              0,
              "#0d0887"
             ],
             [
              0.1111111111111111,
              "#46039f"
             ],
             [
              0.2222222222222222,
              "#7201a8"
             ],
             [
              0.3333333333333333,
              "#9c179e"
             ],
             [
              0.4444444444444444,
              "#bd3786"
             ],
             [
              0.5555555555555556,
              "#d8576b"
             ],
             [
              0.6666666666666666,
              "#ed7953"
             ],
             [
              0.7777777777777778,
              "#fb9f3a"
             ],
             [
              0.8888888888888888,
              "#fdca26"
             ],
             [
              1,
              "#f0f921"
             ]
            ],
            "type": "contour"
           }
          ],
          "contourcarpet": [
           {
            "colorbar": {
             "outlinewidth": 0,
             "ticks": ""
            },
            "type": "contourcarpet"
           }
          ],
          "heatmap": [
           {
            "colorbar": {
             "outlinewidth": 0,
             "ticks": ""
            },
            "colorscale": [
             [
              0,
              "#0d0887"
             ],
             [
              0.1111111111111111,
              "#46039f"
             ],
             [
              0.2222222222222222,
              "#7201a8"
             ],
             [
              0.3333333333333333,
              "#9c179e"
             ],
             [
              0.4444444444444444,
              "#bd3786"
             ],
             [
              0.5555555555555556,
              "#d8576b"
             ],
             [
              0.6666666666666666,
              "#ed7953"
             ],
             [
              0.7777777777777778,
              "#fb9f3a"
             ],
             [
              0.8888888888888888,
              "#fdca26"
             ],
             [
              1,
              "#f0f921"
             ]
            ],
            "type": "heatmap"
           }
          ],
          "heatmapgl": [
           {
            "colorbar": {
             "outlinewidth": 0,
             "ticks": ""
            },
            "colorscale": [
             [
              0,
              "#0d0887"
             ],
             [
              0.1111111111111111,
              "#46039f"
             ],
             [
              0.2222222222222222,
              "#7201a8"
             ],
             [
              0.3333333333333333,
              "#9c179e"
             ],
             [
              0.4444444444444444,
              "#bd3786"
             ],
             [
              0.5555555555555556,
              "#d8576b"
             ],
             [
              0.6666666666666666,
              "#ed7953"
             ],
             [
              0.7777777777777778,
              "#fb9f3a"
             ],
             [
              0.8888888888888888,
              "#fdca26"
             ],
             [
              1,
              "#f0f921"
             ]
            ],
            "type": "heatmapgl"
           }
          ],
          "histogram": [
           {
            "marker": {
             "pattern": {
              "fillmode": "overlay",
              "size": 10,
              "solidity": 0.2
             }
            },
            "type": "histogram"
           }
          ],
          "histogram2d": [
           {
            "colorbar": {
             "outlinewidth": 0,
             "ticks": ""
            },
            "colorscale": [
             [
              0,
              "#0d0887"
             ],
             [
              0.1111111111111111,
              "#46039f"
             ],
             [
              0.2222222222222222,
              "#7201a8"
             ],
             [
              0.3333333333333333,
              "#9c179e"
             ],
             [
              0.4444444444444444,
              "#bd3786"
             ],
             [
              0.5555555555555556,
              "#d8576b"
             ],
             [
              0.6666666666666666,
              "#ed7953"
             ],
             [
              0.7777777777777778,
              "#fb9f3a"
             ],
             [
              0.8888888888888888,
              "#fdca26"
             ],
             [
              1,
              "#f0f921"
             ]
            ],
            "type": "histogram2d"
           }
          ],
          "histogram2dcontour": [
           {
            "colorbar": {
             "outlinewidth": 0,
             "ticks": ""
            },
            "colorscale": [
             [
              0,
              "#0d0887"
             ],
             [
              0.1111111111111111,
              "#46039f"
             ],
             [
              0.2222222222222222,
              "#7201a8"
             ],
             [
              0.3333333333333333,
              "#9c179e"
             ],
             [
              0.4444444444444444,
              "#bd3786"
             ],
             [
              0.5555555555555556,
              "#d8576b"
             ],
             [
              0.6666666666666666,
              "#ed7953"
             ],
             [
              0.7777777777777778,
              "#fb9f3a"
             ],
             [
              0.8888888888888888,
              "#fdca26"
             ],
             [
              1,
              "#f0f921"
             ]
            ],
            "type": "histogram2dcontour"
           }
          ],
          "mesh3d": [
           {
            "colorbar": {
             "outlinewidth": 0,
             "ticks": ""
            },
            "type": "mesh3d"
           }
          ],
          "parcoords": [
           {
            "line": {
             "colorbar": {
              "outlinewidth": 0,
              "ticks": ""
             }
            },
            "type": "parcoords"
           }
          ],
          "pie": [
           {
            "automargin": true,
            "type": "pie"
           }
          ],
          "scatter": [
           {
            "fillpattern": {
             "fillmode": "overlay",
             "size": 10,
             "solidity": 0.2
            },
            "type": "scatter"
           }
          ],
          "scatter3d": [
           {
            "line": {
             "colorbar": {
              "outlinewidth": 0,
              "ticks": ""
             }
            },
            "marker": {
             "colorbar": {
              "outlinewidth": 0,
              "ticks": ""
             }
            },
            "type": "scatter3d"
           }
          ],
          "scattercarpet": [
           {
            "marker": {
             "colorbar": {
              "outlinewidth": 0,
              "ticks": ""
             }
            },
            "type": "scattercarpet"
           }
          ],
          "scattergeo": [
           {
            "marker": {
             "colorbar": {
              "outlinewidth": 0,
              "ticks": ""
             }
            },
            "type": "scattergeo"
           }
          ],
          "scattergl": [
           {
            "marker": {
             "colorbar": {
              "outlinewidth": 0,
              "ticks": ""
             }
            },
            "type": "scattergl"
           }
          ],
          "scattermapbox": [
           {
            "marker": {
             "colorbar": {
              "outlinewidth": 0,
              "ticks": ""
             }
            },
            "type": "scattermapbox"
           }
          ],
          "scatterpolar": [
           {
            "marker": {
             "colorbar": {
              "outlinewidth": 0,
              "ticks": ""
             }
            },
            "type": "scatterpolar"
           }
          ],
          "scatterpolargl": [
           {
            "marker": {
             "colorbar": {
              "outlinewidth": 0,
              "ticks": ""
             }
            },
            "type": "scatterpolargl"
           }
          ],
          "scatterternary": [
           {
            "marker": {
             "colorbar": {
              "outlinewidth": 0,
              "ticks": ""
             }
            },
            "type": "scatterternary"
           }
          ],
          "surface": [
           {
            "colorbar": {
             "outlinewidth": 0,
             "ticks": ""
            },
            "colorscale": [
             [
              0,
              "#0d0887"
             ],
             [
              0.1111111111111111,
              "#46039f"
             ],
             [
              0.2222222222222222,
              "#7201a8"
             ],
             [
              0.3333333333333333,
              "#9c179e"
             ],
             [
              0.4444444444444444,
              "#bd3786"
             ],
             [
              0.5555555555555556,
              "#d8576b"
             ],
             [
              0.6666666666666666,
              "#ed7953"
             ],
             [
              0.7777777777777778,
              "#fb9f3a"
             ],
             [
              0.8888888888888888,
              "#fdca26"
             ],
             [
              1,
              "#f0f921"
             ]
            ],
            "type": "surface"
           }
          ],
          "table": [
           {
            "cells": {
             "fill": {
              "color": "#EBF0F8"
             },
             "line": {
              "color": "white"
             }
            },
            "header": {
             "fill": {
              "color": "#C8D4E3"
             },
             "line": {
              "color": "white"
             }
            },
            "type": "table"
           }
          ]
         },
         "layout": {
          "annotationdefaults": {
           "arrowcolor": "#2a3f5f",
           "arrowhead": 0,
           "arrowwidth": 1
          },
          "autotypenumbers": "strict",
          "coloraxis": {
           "colorbar": {
            "outlinewidth": 0,
            "ticks": ""
           }
          },
          "colorscale": {
           "diverging": [
            [
             0,
             "#8e0152"
            ],
            [
             0.1,
             "#c51b7d"
            ],
            [
             0.2,
             "#de77ae"
            ],
            [
             0.3,
             "#f1b6da"
            ],
            [
             0.4,
             "#fde0ef"
            ],
            [
             0.5,
             "#f7f7f7"
            ],
            [
             0.6,
             "#e6f5d0"
            ],
            [
             0.7,
             "#b8e186"
            ],
            [
             0.8,
             "#7fbc41"
            ],
            [
             0.9,
             "#4d9221"
            ],
            [
             1,
             "#276419"
            ]
           ],
           "sequential": [
            [
             0,
             "#0d0887"
            ],
            [
             0.1111111111111111,
             "#46039f"
            ],
            [
             0.2222222222222222,
             "#7201a8"
            ],
            [
             0.3333333333333333,
             "#9c179e"
            ],
            [
             0.4444444444444444,
             "#bd3786"
            ],
            [
             0.5555555555555556,
             "#d8576b"
            ],
            [
             0.6666666666666666,
             "#ed7953"
            ],
            [
             0.7777777777777778,
             "#fb9f3a"
            ],
            [
             0.8888888888888888,
             "#fdca26"
            ],
            [
             1,
             "#f0f921"
            ]
           ],
           "sequentialminus": [
            [
             0,
             "#0d0887"
            ],
            [
             0.1111111111111111,
             "#46039f"
            ],
            [
             0.2222222222222222,
             "#7201a8"
            ],
            [
             0.3333333333333333,
             "#9c179e"
            ],
            [
             0.4444444444444444,
             "#bd3786"
            ],
            [
             0.5555555555555556,
             "#d8576b"
            ],
            [
             0.6666666666666666,
             "#ed7953"
            ],
            [
             0.7777777777777778,
             "#fb9f3a"
            ],
            [
             0.8888888888888888,
             "#fdca26"
            ],
            [
             1,
             "#f0f921"
            ]
           ]
          },
          "colorway": [
           "#636efa",
           "#EF553B",
           "#00cc96",
           "#ab63fa",
           "#FFA15A",
           "#19d3f3",
           "#FF6692",
           "#B6E880",
           "#FF97FF",
           "#FECB52"
          ],
          "font": {
           "color": "#2a3f5f"
          },
          "geo": {
           "bgcolor": "white",
           "lakecolor": "white",
           "landcolor": "#E5ECF6",
           "showlakes": true,
           "showland": true,
           "subunitcolor": "white"
          },
          "hoverlabel": {
           "align": "left"
          },
          "hovermode": "closest",
          "mapbox": {
           "style": "light"
          },
          "paper_bgcolor": "white",
          "plot_bgcolor": "#E5ECF6",
          "polar": {
           "angularaxis": {
            "gridcolor": "white",
            "linecolor": "white",
            "ticks": ""
           },
           "bgcolor": "#E5ECF6",
           "radialaxis": {
            "gridcolor": "white",
            "linecolor": "white",
            "ticks": ""
           }
          },
          "scene": {
           "xaxis": {
            "backgroundcolor": "#E5ECF6",
            "gridcolor": "white",
            "gridwidth": 2,
            "linecolor": "white",
            "showbackground": true,
            "ticks": "",
            "zerolinecolor": "white"
           },
           "yaxis": {
            "backgroundcolor": "#E5ECF6",
            "gridcolor": "white",
            "gridwidth": 2,
            "linecolor": "white",
            "showbackground": true,
            "ticks": "",
            "zerolinecolor": "white"
           },
           "zaxis": {
            "backgroundcolor": "#E5ECF6",
            "gridcolor": "white",
            "gridwidth": 2,
            "linecolor": "white",
            "showbackground": true,
            "ticks": "",
            "zerolinecolor": "white"
           }
          },
          "shapedefaults": {
           "line": {
            "color": "#2a3f5f"
           }
          },
          "ternary": {
           "aaxis": {
            "gridcolor": "white",
            "linecolor": "white",
            "ticks": ""
           },
           "baxis": {
            "gridcolor": "white",
            "linecolor": "white",
            "ticks": ""
           },
           "bgcolor": "#E5ECF6",
           "caxis": {
            "gridcolor": "white",
            "linecolor": "white",
            "ticks": ""
           }
          },
          "title": {
           "x": 0.05
          },
          "xaxis": {
           "automargin": true,
           "gridcolor": "white",
           "linecolor": "white",
           "ticks": "",
           "title": {
            "standoff": 15
           },
           "zerolinecolor": "white",
           "zerolinewidth": 2
          },
          "yaxis": {
           "automargin": true,
           "gridcolor": "white",
           "linecolor": "white",
           "ticks": "",
           "title": {
            "standoff": 15
           },
           "zerolinecolor": "white",
           "zerolinewidth": 2
          }
         }
        },
        "width": 1600,
        "xaxis": {
         "anchor": "y",
         "categoryorder": "total descending",
         "domain": [
          0,
          1
         ],
         "title": {
          "text": "KEM / Signature Algorithms"
         }
        },
        "yaxis": {
         "anchor": "x",
         "domain": [
          0,
          1
         ],
         "title": {
          "text": "Handshakes/s (higher is better)"
         }
        }
       }
      }
     },
     "metadata": {},
     "output_type": "display_data"
    }
   ],
   "source": [
    "import random\n",
    "\n",
    "\n",
    "recordings[\"sig_type\"] = recordings[\"sig\"].apply(lambda x: \"hybrid\" if \"_\" in x else \"pqc\" if \"dilithium\" in x else \"trad\")\n",
    "recordings[\"kem_type\"] = recordings[\"kem\"].apply(lambda x: \"hybrid\" if \"_\" in x else \"pqc\" if \"kyber\" in x else \"trad\")\n",
    "\n",
    "recordings[\"is_hybrid\"] = (recordings[\"sig_type\"] == \"hybrid\") | (recordings[\"kem_type\"] == \"hybrid\")\n",
    "recordings[\"pure_pqc\"] = (recordings[\"sig_type\"] == \"pqc\") & (recordings[\"kem_type\"] == \"pqc\")\n",
    "\n",
    "recordings[\"type\"] = np.where(recordings[\"is_hybrid\"], \"Hybrid\", np.where(recordings[\"pure_pqc\"], \"Pure PQ\", \"Traditional\"))\n",
    "\n",
    "recordings[\"name\"] = recordings.apply(lambda row: f\"{row['sig']} / {row['kem']}\", axis=1)\n",
    "\n",
    "recordings[\"platform\"] = \"i7\"\n",
    "rpi3b = recordings.copy()\n",
    "rpi3b[\"ops_per_sec\"] = rpi3b[\"ops_per_sec\"].map(lambda x: x / (20 + 0 * random.random()))\n",
    "rpi3b[\"platform\"] = \"rpi3b\"\n",
    "both = pd.concat([recordings, rpi3b])\n",
    "# filtered = recordings[recordings.apply(lambda row: (row[\"kem\"], row[\"sig\"]) in small, axis=1)]\n",
    "both.sort_values(by=\"ops_per_sec\", ascending=False, inplace=True)\n",
    "# filtered = recordings[recordings[\"sig\"] == \"dilithium2\"]\n",
    "\n",
    "fig = px.bar(both[both[\"platform\"] == \"i7\"],\n",
    "             x=\"name\", \n",
    "             y=\"ops_per_sec\", \n",
    "             color=\"type\", \n",
    "             labels={\"ops_per_sec\": \"Handshakes/s (higher is better)\"},\n",
    "             text=\"name\",\n",
    ")\n",
    "fig.update_layout(showlegend=True)\n",
    "fig.update_yaxes(matches=None)\n",
    "fig.update_xaxes(matches=None, title=\"KEM / Signature Algorithms\")\n",
    "fig.update_layout(legend_title_text='Algorithm Type')\n",
    "fig.update_layout(\n",
    "    autosize=False,\n",
    "    width=1600,\n",
    "    height=800,\n",
    "    xaxis={\"categoryorder\": \"total descending\"},\n",
    "    margin={\"l\": 0, \"r\": 0, \"t\": 0, \"b\": 0}\n",
    ")\n",
    "fig.show()\n",
    "fig.write_image(\"handshake_perf_i7.png\")"
   ]
  },
  {
   "cell_type": "code",
   "execution_count": null,
   "metadata": {},
   "outputs": [],
   "source": []
  },
  {
   "cell_type": "code",
   "execution_count": 51,
   "metadata": {},
   "outputs": [
    {
     "data": {
      "text/html": [
       "<div>\n",
       "<style scoped>\n",
       "    .dataframe tbody tr th:only-of-type {\n",
       "        vertical-align: middle;\n",
       "    }\n",
       "\n",
       "    .dataframe tbody tr th {\n",
       "        vertical-align: top;\n",
       "    }\n",
       "\n",
       "    .dataframe thead th {\n",
       "        text-align: right;\n",
       "    }\n",
       "</style>\n",
       "<table border=\"1\" class=\"dataframe\">\n",
       "  <thead>\n",
       "    <tr style=\"text-align: right;\">\n",
       "      <th></th>\n",
       "      <th>alg</th>\n",
       "      <th>op</th>\n",
       "      <th>sec</th>\n",
       "      <th>ops</th>\n",
       "      <th>ops_per_sec</th>\n",
       "      <th>platform</th>\n",
       "    </tr>\n",
       "  </thead>\n",
       "  <tbody>\n",
       "    <tr>\n",
       "      <th>0</th>\n",
       "      <td>x25519</td>\n",
       "      <td>keygen</td>\n",
       "      <td>9.94</td>\n",
       "      <td>20086</td>\n",
       "      <td>2020.724346</td>\n",
       "      <td>rpi3b</td>\n",
       "    </tr>\n",
       "    <tr>\n",
       "      <th>1</th>\n",
       "      <td>x25519</td>\n",
       "      <td>encaps</td>\n",
       "      <td>10.00</td>\n",
       "      <td>5452</td>\n",
       "      <td>545.200000</td>\n",
       "      <td>rpi3b</td>\n",
       "    </tr>\n",
       "    <tr>\n",
       "      <th>2</th>\n",
       "      <td>x25519</td>\n",
       "      <td>decaps</td>\n",
       "      <td>10.00</td>\n",
       "      <td>7734</td>\n",
       "      <td>773.400000</td>\n",
       "      <td>rpi3b</td>\n",
       "    </tr>\n",
       "    <tr>\n",
       "      <th>3</th>\n",
       "      <td>kyber512</td>\n",
       "      <td>keygen</td>\n",
       "      <td>9.99</td>\n",
       "      <td>14291</td>\n",
       "      <td>1430.530531</td>\n",
       "      <td>rpi3b</td>\n",
       "    </tr>\n",
       "    <tr>\n",
       "      <th>4</th>\n",
       "      <td>kyber512</td>\n",
       "      <td>encaps</td>\n",
       "      <td>9.99</td>\n",
       "      <td>11280</td>\n",
       "      <td>1129.129129</td>\n",
       "      <td>rpi3b</td>\n",
       "    </tr>\n",
       "    <tr>\n",
       "      <th>5</th>\n",
       "      <td>kyber512</td>\n",
       "      <td>decaps</td>\n",
       "      <td>10.00</td>\n",
       "      <td>11330</td>\n",
       "      <td>1133.000000</td>\n",
       "      <td>rpi3b</td>\n",
       "    </tr>\n",
       "    <tr>\n",
       "      <th>6</th>\n",
       "      <td>x25519_kyber512</td>\n",
       "      <td>keygen</td>\n",
       "      <td>10.00</td>\n",
       "      <td>8193</td>\n",
       "      <td>819.300000</td>\n",
       "      <td>rpi3b</td>\n",
       "    </tr>\n",
       "    <tr>\n",
       "      <th>7</th>\n",
       "      <td>x25519_kyber512</td>\n",
       "      <td>encaps</td>\n",
       "      <td>10.00</td>\n",
       "      <td>3755</td>\n",
       "      <td>375.500000</td>\n",
       "      <td>rpi3b</td>\n",
       "    </tr>\n",
       "    <tr>\n",
       "      <th>8</th>\n",
       "      <td>x25519_kyber512</td>\n",
       "      <td>decaps</td>\n",
       "      <td>10.00</td>\n",
       "      <td>3775</td>\n",
       "      <td>377.500000</td>\n",
       "      <td>rpi3b</td>\n",
       "    </tr>\n",
       "    <tr>\n",
       "      <th>9</th>\n",
       "      <td>kyber768</td>\n",
       "      <td>keygen</td>\n",
       "      <td>9.99</td>\n",
       "      <td>8979</td>\n",
       "      <td>898.798799</td>\n",
       "      <td>rpi3b</td>\n",
       "    </tr>\n",
       "    <tr>\n",
       "      <th>10</th>\n",
       "      <td>kyber768</td>\n",
       "      <td>encaps</td>\n",
       "      <td>9.99</td>\n",
       "      <td>7104</td>\n",
       "      <td>711.111111</td>\n",
       "      <td>rpi3b</td>\n",
       "    </tr>\n",
       "    <tr>\n",
       "      <th>11</th>\n",
       "      <td>kyber768</td>\n",
       "      <td>decaps</td>\n",
       "      <td>10.00</td>\n",
       "      <td>7177</td>\n",
       "      <td>717.700000</td>\n",
       "      <td>rpi3b</td>\n",
       "    </tr>\n",
       "    <tr>\n",
       "      <th>12</th>\n",
       "      <td>x25519_kyber768</td>\n",
       "      <td>keygen</td>\n",
       "      <td>9.99</td>\n",
       "      <td>6112</td>\n",
       "      <td>611.811812</td>\n",
       "      <td>rpi3b</td>\n",
       "    </tr>\n",
       "    <tr>\n",
       "      <th>13</th>\n",
       "      <td>x25519_kyber768</td>\n",
       "      <td>encaps</td>\n",
       "      <td>10.00</td>\n",
       "      <td>3144</td>\n",
       "      <td>314.400000</td>\n",
       "      <td>rpi3b</td>\n",
       "    </tr>\n",
       "    <tr>\n",
       "      <th>14</th>\n",
       "      <td>x25519_kyber768</td>\n",
       "      <td>decaps</td>\n",
       "      <td>10.00</td>\n",
       "      <td>3168</td>\n",
       "      <td>316.800000</td>\n",
       "      <td>rpi3b</td>\n",
       "    </tr>\n",
       "    <tr>\n",
       "      <th>15</th>\n",
       "      <td>kyber1024</td>\n",
       "      <td>keygen</td>\n",
       "      <td>9.99</td>\n",
       "      <td>5791</td>\n",
       "      <td>579.679680</td>\n",
       "      <td>rpi3b</td>\n",
       "    </tr>\n",
       "    <tr>\n",
       "      <th>16</th>\n",
       "      <td>kyber1024</td>\n",
       "      <td>encaps</td>\n",
       "      <td>10.00</td>\n",
       "      <td>4783</td>\n",
       "      <td>478.300000</td>\n",
       "      <td>rpi3b</td>\n",
       "    </tr>\n",
       "    <tr>\n",
       "      <th>17</th>\n",
       "      <td>kyber1024</td>\n",
       "      <td>decaps</td>\n",
       "      <td>10.00</td>\n",
       "      <td>4845</td>\n",
       "      <td>484.500000</td>\n",
       "      <td>rpi3b</td>\n",
       "    </tr>\n",
       "    <tr>\n",
       "      <th>18</th>\n",
       "      <td>dilithium2</td>\n",
       "      <td>keygen</td>\n",
       "      <td>9.98</td>\n",
       "      <td>4522</td>\n",
       "      <td>453.106212</td>\n",
       "      <td>rpi3b</td>\n",
       "    </tr>\n",
       "    <tr>\n",
       "      <th>19</th>\n",
       "      <td>dilithium2</td>\n",
       "      <td>signs</td>\n",
       "      <td>9.99</td>\n",
       "      <td>1568</td>\n",
       "      <td>156.956957</td>\n",
       "      <td>rpi3b</td>\n",
       "    </tr>\n",
       "    <tr>\n",
       "      <th>20</th>\n",
       "      <td>dilithium2</td>\n",
       "      <td>verify</td>\n",
       "      <td>10.00</td>\n",
       "      <td>4510</td>\n",
       "      <td>451.000000</td>\n",
       "      <td>rpi3b</td>\n",
       "    </tr>\n",
       "    <tr>\n",
       "      <th>21</th>\n",
       "      <td>p256_dilithium2</td>\n",
       "      <td>keygen</td>\n",
       "      <td>9.99</td>\n",
       "      <td>1281</td>\n",
       "      <td>128.228228</td>\n",
       "      <td>rpi3b</td>\n",
       "    </tr>\n",
       "    <tr>\n",
       "      <th>22</th>\n",
       "      <td>p256_dilithium2</td>\n",
       "      <td>signs</td>\n",
       "      <td>10.01</td>\n",
       "      <td>1454</td>\n",
       "      <td>145.254745</td>\n",
       "      <td>rpi3b</td>\n",
       "    </tr>\n",
       "    <tr>\n",
       "      <th>23</th>\n",
       "      <td>p256_dilithium2</td>\n",
       "      <td>verify</td>\n",
       "      <td>10.00</td>\n",
       "      <td>2800</td>\n",
       "      <td>280.000000</td>\n",
       "      <td>rpi3b</td>\n",
       "    </tr>\n",
       "    <tr>\n",
       "      <th>24</th>\n",
       "      <td>dilithium3</td>\n",
       "      <td>keygen</td>\n",
       "      <td>10.00</td>\n",
       "      <td>2566</td>\n",
       "      <td>256.600000</td>\n",
       "      <td>rpi3b</td>\n",
       "    </tr>\n",
       "    <tr>\n",
       "      <th>25</th>\n",
       "      <td>dilithium3</td>\n",
       "      <td>signs</td>\n",
       "      <td>10.01</td>\n",
       "      <td>973</td>\n",
       "      <td>97.202797</td>\n",
       "      <td>rpi3b</td>\n",
       "    </tr>\n",
       "    <tr>\n",
       "      <th>26</th>\n",
       "      <td>dilithium3</td>\n",
       "      <td>verify</td>\n",
       "      <td>10.00</td>\n",
       "      <td>2660</td>\n",
       "      <td>266.000000</td>\n",
       "      <td>rpi3b</td>\n",
       "    </tr>\n",
       "    <tr>\n",
       "      <th>27</th>\n",
       "      <td>p384_dilithium3</td>\n",
       "      <td>keygen</td>\n",
       "      <td>9.99</td>\n",
       "      <td>392</td>\n",
       "      <td>39.239239</td>\n",
       "      <td>rpi3b</td>\n",
       "    </tr>\n",
       "    <tr>\n",
       "      <th>28</th>\n",
       "      <td>p384_dilithium3</td>\n",
       "      <td>signs</td>\n",
       "      <td>10.01</td>\n",
       "      <td>368</td>\n",
       "      <td>36.763237</td>\n",
       "      <td>rpi3b</td>\n",
       "    </tr>\n",
       "    <tr>\n",
       "      <th>29</th>\n",
       "      <td>p384_dilithium3</td>\n",
       "      <td>verify</td>\n",
       "      <td>10.02</td>\n",
       "      <td>606</td>\n",
       "      <td>60.479042</td>\n",
       "      <td>rpi3b</td>\n",
       "    </tr>\n",
       "    <tr>\n",
       "      <th>0</th>\n",
       "      <td>x25519</td>\n",
       "      <td>keygen</td>\n",
       "      <td>9.98</td>\n",
       "      <td>448872</td>\n",
       "      <td>44977.154309</td>\n",
       "      <td>i7</td>\n",
       "    </tr>\n",
       "    <tr>\n",
       "      <th>1</th>\n",
       "      <td>x25519</td>\n",
       "      <td>encaps</td>\n",
       "      <td>9.98</td>\n",
       "      <td>188835</td>\n",
       "      <td>18921.342685</td>\n",
       "      <td>i7</td>\n",
       "    </tr>\n",
       "    <tr>\n",
       "      <th>2</th>\n",
       "      <td>x25519</td>\n",
       "      <td>decaps</td>\n",
       "      <td>10.00</td>\n",
       "      <td>365051</td>\n",
       "      <td>36505.100000</td>\n",
       "      <td>i7</td>\n",
       "    </tr>\n",
       "    <tr>\n",
       "      <th>3</th>\n",
       "      <td>kyber512</td>\n",
       "      <td>keygen</td>\n",
       "      <td>9.83</td>\n",
       "      <td>1318721</td>\n",
       "      <td>134152.695829</td>\n",
       "      <td>i7</td>\n",
       "    </tr>\n",
       "    <tr>\n",
       "      <th>4</th>\n",
       "      <td>kyber512</td>\n",
       "      <td>encaps</td>\n",
       "      <td>9.91</td>\n",
       "      <td>1159403</td>\n",
       "      <td>116993.239152</td>\n",
       "      <td>i7</td>\n",
       "    </tr>\n",
       "    <tr>\n",
       "      <th>5</th>\n",
       "      <td>kyber512</td>\n",
       "      <td>decaps</td>\n",
       "      <td>9.99</td>\n",
       "      <td>1577365</td>\n",
       "      <td>157894.394394</td>\n",
       "      <td>i7</td>\n",
       "    </tr>\n",
       "    <tr>\n",
       "      <th>6</th>\n",
       "      <td>x25519_kyber512</td>\n",
       "      <td>keygen</td>\n",
       "      <td>9.94</td>\n",
       "      <td>296202</td>\n",
       "      <td>29798.993964</td>\n",
       "      <td>i7</td>\n",
       "    </tr>\n",
       "    <tr>\n",
       "      <th>7</th>\n",
       "      <td>x25519_kyber512</td>\n",
       "      <td>encaps</td>\n",
       "      <td>9.97</td>\n",
       "      <td>165941</td>\n",
       "      <td>16644.032096</td>\n",
       "      <td>i7</td>\n",
       "    </tr>\n",
       "    <tr>\n",
       "      <th>8</th>\n",
       "      <td>x25519_kyber512</td>\n",
       "      <td>decaps</td>\n",
       "      <td>10.00</td>\n",
       "      <td>181858</td>\n",
       "      <td>18185.800000</td>\n",
       "      <td>i7</td>\n",
       "    </tr>\n",
       "    <tr>\n",
       "      <th>9</th>\n",
       "      <td>kyber768</td>\n",
       "      <td>keygen</td>\n",
       "      <td>9.90</td>\n",
       "      <td>877995</td>\n",
       "      <td>88686.363636</td>\n",
       "      <td>i7</td>\n",
       "    </tr>\n",
       "    <tr>\n",
       "      <th>10</th>\n",
       "      <td>kyber768</td>\n",
       "      <td>encaps</td>\n",
       "      <td>9.93</td>\n",
       "      <td>745843</td>\n",
       "      <td>75110.070493</td>\n",
       "      <td>i7</td>\n",
       "    </tr>\n",
       "    <tr>\n",
       "      <th>11</th>\n",
       "      <td>kyber768</td>\n",
       "      <td>decaps</td>\n",
       "      <td>10.00</td>\n",
       "      <td>936985</td>\n",
       "      <td>93698.500000</td>\n",
       "      <td>i7</td>\n",
       "    </tr>\n",
       "    <tr>\n",
       "      <th>12</th>\n",
       "      <td>x25519_kyber768</td>\n",
       "      <td>keygen</td>\n",
       "      <td>9.94</td>\n",
       "      <td>262894</td>\n",
       "      <td>26448.088531</td>\n",
       "      <td>i7</td>\n",
       "    </tr>\n",
       "    <tr>\n",
       "      <th>13</th>\n",
       "      <td>x25519_kyber768</td>\n",
       "      <td>encaps</td>\n",
       "      <td>9.97</td>\n",
       "      <td>163887</td>\n",
       "      <td>16438.014042</td>\n",
       "      <td>i7</td>\n",
       "    </tr>\n",
       "    <tr>\n",
       "      <th>14</th>\n",
       "      <td>x25519_kyber768</td>\n",
       "      <td>decaps</td>\n",
       "      <td>10.00</td>\n",
       "      <td>173418</td>\n",
       "      <td>17341.800000</td>\n",
       "      <td>i7</td>\n",
       "    </tr>\n",
       "    <tr>\n",
       "      <th>15</th>\n",
       "      <td>kyber1024</td>\n",
       "      <td>keygen</td>\n",
       "      <td>9.91</td>\n",
       "      <td>621331</td>\n",
       "      <td>62697.376387</td>\n",
       "      <td>i7</td>\n",
       "    </tr>\n",
       "    <tr>\n",
       "      <th>16</th>\n",
       "      <td>kyber1024</td>\n",
       "      <td>encaps</td>\n",
       "      <td>9.96</td>\n",
       "      <td>568225</td>\n",
       "      <td>57050.702811</td>\n",
       "      <td>i7</td>\n",
       "    </tr>\n",
       "    <tr>\n",
       "      <th>17</th>\n",
       "      <td>kyber1024</td>\n",
       "      <td>decaps</td>\n",
       "      <td>9.99</td>\n",
       "      <td>726990</td>\n",
       "      <td>72771.771772</td>\n",
       "      <td>i7</td>\n",
       "    </tr>\n",
       "    <tr>\n",
       "      <th>18</th>\n",
       "      <td>dilithium2</td>\n",
       "      <td>keygen</td>\n",
       "      <td>9.97</td>\n",
       "      <td>457353</td>\n",
       "      <td>45872.918756</td>\n",
       "      <td>i7</td>\n",
       "    </tr>\n",
       "    <tr>\n",
       "      <th>19</th>\n",
       "      <td>dilithium2</td>\n",
       "      <td>signs</td>\n",
       "      <td>9.99</td>\n",
       "      <td>187347</td>\n",
       "      <td>18753.453453</td>\n",
       "      <td>i7</td>\n",
       "    </tr>\n",
       "    <tr>\n",
       "      <th>20</th>\n",
       "      <td>dilithium2</td>\n",
       "      <td>verify</td>\n",
       "      <td>9.99</td>\n",
       "      <td>476203</td>\n",
       "      <td>47667.967968</td>\n",
       "      <td>i7</td>\n",
       "    </tr>\n",
       "    <tr>\n",
       "      <th>21</th>\n",
       "      <td>p256_dilithium2</td>\n",
       "      <td>keygen</td>\n",
       "      <td>9.98</td>\n",
       "      <td>23213</td>\n",
       "      <td>2325.951904</td>\n",
       "      <td>i7</td>\n",
       "    </tr>\n",
       "    <tr>\n",
       "      <th>22</th>\n",
       "      <td>p256_dilithium2</td>\n",
       "      <td>signs</td>\n",
       "      <td>9.98</td>\n",
       "      <td>126563</td>\n",
       "      <td>12681.663327</td>\n",
       "      <td>i7</td>\n",
       "    </tr>\n",
       "    <tr>\n",
       "      <th>23</th>\n",
       "      <td>p256_dilithium2</td>\n",
       "      <td>verify</td>\n",
       "      <td>9.99</td>\n",
       "      <td>120905</td>\n",
       "      <td>12102.602603</td>\n",
       "      <td>i7</td>\n",
       "    </tr>\n",
       "    <tr>\n",
       "      <th>24</th>\n",
       "      <td>dilithium3</td>\n",
       "      <td>keygen</td>\n",
       "      <td>9.99</td>\n",
       "      <td>269660</td>\n",
       "      <td>26992.992993</td>\n",
       "      <td>i7</td>\n",
       "    </tr>\n",
       "    <tr>\n",
       "      <th>25</th>\n",
       "      <td>dilithium3</td>\n",
       "      <td>signs</td>\n",
       "      <td>9.99</td>\n",
       "      <td>115608</td>\n",
       "      <td>11572.372372</td>\n",
       "      <td>i7</td>\n",
       "    </tr>\n",
       "    <tr>\n",
       "      <th>26</th>\n",
       "      <td>dilithium3</td>\n",
       "      <td>verify</td>\n",
       "      <td>10.00</td>\n",
       "      <td>302694</td>\n",
       "      <td>30269.400000</td>\n",
       "      <td>i7</td>\n",
       "    </tr>\n",
       "    <tr>\n",
       "      <th>27</th>\n",
       "      <td>p384_dilithium3</td>\n",
       "      <td>keygen</td>\n",
       "      <td>10.00</td>\n",
       "      <td>11645</td>\n",
       "      <td>1164.500000</td>\n",
       "      <td>i7</td>\n",
       "    </tr>\n",
       "    <tr>\n",
       "      <th>28</th>\n",
       "      <td>p384_dilithium3</td>\n",
       "      <td>signs</td>\n",
       "      <td>9.99</td>\n",
       "      <td>16449</td>\n",
       "      <td>1646.546547</td>\n",
       "      <td>i7</td>\n",
       "    </tr>\n",
       "    <tr>\n",
       "      <th>29</th>\n",
       "      <td>p384_dilithium3</td>\n",
       "      <td>verify</td>\n",
       "      <td>10.00</td>\n",
       "      <td>21395</td>\n",
       "      <td>2139.500000</td>\n",
       "      <td>i7</td>\n",
       "    </tr>\n",
       "  </tbody>\n",
       "</table>\n",
       "</div>"
      ],
      "text/plain": [
       "                alg      op    sec      ops    ops_per_sec platform\n",
       "0            x25519  keygen   9.94    20086    2020.724346    rpi3b\n",
       "1            x25519  encaps  10.00     5452     545.200000    rpi3b\n",
       "2            x25519  decaps  10.00     7734     773.400000    rpi3b\n",
       "3          kyber512  keygen   9.99    14291    1430.530531    rpi3b\n",
       "4          kyber512  encaps   9.99    11280    1129.129129    rpi3b\n",
       "5          kyber512  decaps  10.00    11330    1133.000000    rpi3b\n",
       "6   x25519_kyber512  keygen  10.00     8193     819.300000    rpi3b\n",
       "7   x25519_kyber512  encaps  10.00     3755     375.500000    rpi3b\n",
       "8   x25519_kyber512  decaps  10.00     3775     377.500000    rpi3b\n",
       "9          kyber768  keygen   9.99     8979     898.798799    rpi3b\n",
       "10         kyber768  encaps   9.99     7104     711.111111    rpi3b\n",
       "11         kyber768  decaps  10.00     7177     717.700000    rpi3b\n",
       "12  x25519_kyber768  keygen   9.99     6112     611.811812    rpi3b\n",
       "13  x25519_kyber768  encaps  10.00     3144     314.400000    rpi3b\n",
       "14  x25519_kyber768  decaps  10.00     3168     316.800000    rpi3b\n",
       "15        kyber1024  keygen   9.99     5791     579.679680    rpi3b\n",
       "16        kyber1024  encaps  10.00     4783     478.300000    rpi3b\n",
       "17        kyber1024  decaps  10.00     4845     484.500000    rpi3b\n",
       "18       dilithium2  keygen   9.98     4522     453.106212    rpi3b\n",
       "19       dilithium2   signs   9.99     1568     156.956957    rpi3b\n",
       "20       dilithium2  verify  10.00     4510     451.000000    rpi3b\n",
       "21  p256_dilithium2  keygen   9.99     1281     128.228228    rpi3b\n",
       "22  p256_dilithium2   signs  10.01     1454     145.254745    rpi3b\n",
       "23  p256_dilithium2  verify  10.00     2800     280.000000    rpi3b\n",
       "24       dilithium3  keygen  10.00     2566     256.600000    rpi3b\n",
       "25       dilithium3   signs  10.01      973      97.202797    rpi3b\n",
       "26       dilithium3  verify  10.00     2660     266.000000    rpi3b\n",
       "27  p384_dilithium3  keygen   9.99      392      39.239239    rpi3b\n",
       "28  p384_dilithium3   signs  10.01      368      36.763237    rpi3b\n",
       "29  p384_dilithium3  verify  10.02      606      60.479042    rpi3b\n",
       "0            x25519  keygen   9.98   448872   44977.154309       i7\n",
       "1            x25519  encaps   9.98   188835   18921.342685       i7\n",
       "2            x25519  decaps  10.00   365051   36505.100000       i7\n",
       "3          kyber512  keygen   9.83  1318721  134152.695829       i7\n",
       "4          kyber512  encaps   9.91  1159403  116993.239152       i7\n",
       "5          kyber512  decaps   9.99  1577365  157894.394394       i7\n",
       "6   x25519_kyber512  keygen   9.94   296202   29798.993964       i7\n",
       "7   x25519_kyber512  encaps   9.97   165941   16644.032096       i7\n",
       "8   x25519_kyber512  decaps  10.00   181858   18185.800000       i7\n",
       "9          kyber768  keygen   9.90   877995   88686.363636       i7\n",
       "10         kyber768  encaps   9.93   745843   75110.070493       i7\n",
       "11         kyber768  decaps  10.00   936985   93698.500000       i7\n",
       "12  x25519_kyber768  keygen   9.94   262894   26448.088531       i7\n",
       "13  x25519_kyber768  encaps   9.97   163887   16438.014042       i7\n",
       "14  x25519_kyber768  decaps  10.00   173418   17341.800000       i7\n",
       "15        kyber1024  keygen   9.91   621331   62697.376387       i7\n",
       "16        kyber1024  encaps   9.96   568225   57050.702811       i7\n",
       "17        kyber1024  decaps   9.99   726990   72771.771772       i7\n",
       "18       dilithium2  keygen   9.97   457353   45872.918756       i7\n",
       "19       dilithium2   signs   9.99   187347   18753.453453       i7\n",
       "20       dilithium2  verify   9.99   476203   47667.967968       i7\n",
       "21  p256_dilithium2  keygen   9.98    23213    2325.951904       i7\n",
       "22  p256_dilithium2   signs   9.98   126563   12681.663327       i7\n",
       "23  p256_dilithium2  verify   9.99   120905   12102.602603       i7\n",
       "24       dilithium3  keygen   9.99   269660   26992.992993       i7\n",
       "25       dilithium3   signs   9.99   115608   11572.372372       i7\n",
       "26       dilithium3  verify  10.00   302694   30269.400000       i7\n",
       "27  p384_dilithium3  keygen  10.00    11645    1164.500000       i7\n",
       "28  p384_dilithium3   signs   9.99    16449    1646.546547       i7\n",
       "29  p384_dilithium3  verify  10.00    21395    2139.500000       i7"
      ]
     },
     "execution_count": 51,
     "metadata": {},
     "output_type": "execute_result"
    }
   ],
   "source": [
    "import os\n",
    "\n",
    "platforms = [\"rpi3b\", \"i7\"]\n",
    "\n",
    "all_results = pd.DataFrame()\n",
    "for platform in platforms:\n",
    "    if not os.path.exists(f\"results_{platform}.txt\"):\n",
    "        continue\n",
    "    with open(f\"results_{platform}.txt\") as f:\n",
    "        output = f.read()\n",
    "    df = parse_output(output)\n",
    "    df[\"platform\"] = platform\n",
    "    all_results = pd.concat([all_results, df])\n",
    "\n",
    "all_results"
   ]
  },
  {
   "cell_type": "code",
   "execution_count": 56,
   "metadata": {},
   "outputs": [
    {
     "data": {
      "application/vnd.plotly.v1+json": {
       "config": {
        "plotlyServerURL": "https://plot.ly"
       },
       "data": [
        {
         "alignmentgroup": "True",
         "hovertemplate": "Operation=%{text}<br>Platform=rpi3b<br>type=%{x}<br>Operations/sec (higher is better)=%{y}<extra></extra>",
         "legendgroup": "keygen",
         "marker": {
          "color": "#636efa",
          "pattern": {
           "shape": ""
          }
         },
         "name": "keygen",
         "offsetgroup": "keygen",
         "orientation": "v",
         "showlegend": true,
         "text": [
          "keygen",
          "keygen",
          "keygen"
         ],
         "textposition": "auto",
         "type": "bar",
         "x": [
          "trad",
          "pqc",
          "hybrid"
         ],
         "xaxis": "x2",
         "y": [
          2020.724346076459,
          1430.5305305305305,
          819.3
         ],
         "yaxis": "y2"
        },
        {
         "alignmentgroup": "True",
         "hovertemplate": "Operation=%{text}<br>Platform=i7<br>type=%{x}<br>Operations/sec (higher is better)=%{y}<extra></extra>",
         "legendgroup": "keygen",
         "marker": {
          "color": "#636efa",
          "pattern": {
           "shape": ""
          }
         },
         "name": "keygen",
         "offsetgroup": "keygen",
         "orientation": "v",
         "showlegend": false,
         "text": [
          "keygen",
          "keygen",
          "keygen"
         ],
         "textposition": "auto",
         "type": "bar",
         "x": [
          "trad",
          "pqc",
          "hybrid"
         ],
         "xaxis": "x",
         "y": [
          44977.15430861723,
          134152.69582909462,
          29798.993963782697
         ],
         "yaxis": "y"
        },
        {
         "alignmentgroup": "True",
         "hovertemplate": "Operation=%{text}<br>Platform=rpi3b<br>type=%{x}<br>Operations/sec (higher is better)=%{y}<extra></extra>",
         "legendgroup": "encaps",
         "marker": {
          "color": "#EF553B",
          "pattern": {
           "shape": ""
          }
         },
         "name": "encaps",
         "offsetgroup": "encaps",
         "orientation": "v",
         "showlegend": true,
         "text": [
          "encaps",
          "encaps",
          "encaps"
         ],
         "textposition": "auto",
         "type": "bar",
         "x": [
          "trad",
          "pqc",
          "hybrid"
         ],
         "xaxis": "x2",
         "y": [
          545.2,
          1129.129129129129,
          375.5
         ],
         "yaxis": "y2"
        },
        {
         "alignmentgroup": "True",
         "hovertemplate": "Operation=%{text}<br>Platform=i7<br>type=%{x}<br>Operations/sec (higher is better)=%{y}<extra></extra>",
         "legendgroup": "encaps",
         "marker": {
          "color": "#EF553B",
          "pattern": {
           "shape": ""
          }
         },
         "name": "encaps",
         "offsetgroup": "encaps",
         "orientation": "v",
         "showlegend": false,
         "text": [
          "encaps",
          "encaps",
          "encaps"
         ],
         "textposition": "auto",
         "type": "bar",
         "x": [
          "trad",
          "pqc",
          "hybrid"
         ],
         "xaxis": "x",
         "y": [
          18921.342685370742,
          116993.23915237134,
          16644.032096288865
         ],
         "yaxis": "y"
        },
        {
         "alignmentgroup": "True",
         "hovertemplate": "Operation=%{text}<br>Platform=rpi3b<br>type=%{x}<br>Operations/sec (higher is better)=%{y}<extra></extra>",
         "legendgroup": "decaps",
         "marker": {
          "color": "#00cc96",
          "pattern": {
           "shape": ""
          }
         },
         "name": "decaps",
         "offsetgroup": "decaps",
         "orientation": "v",
         "showlegend": true,
         "text": [
          "decaps",
          "decaps",
          "decaps"
         ],
         "textposition": "auto",
         "type": "bar",
         "x": [
          "trad",
          "pqc",
          "hybrid"
         ],
         "xaxis": "x2",
         "y": [
          773.4,
          1133,
          377.5
         ],
         "yaxis": "y2"
        },
        {
         "alignmentgroup": "True",
         "hovertemplate": "Operation=%{text}<br>Platform=i7<br>type=%{x}<br>Operations/sec (higher is better)=%{y}<extra></extra>",
         "legendgroup": "decaps",
         "marker": {
          "color": "#00cc96",
          "pattern": {
           "shape": ""
          }
         },
         "name": "decaps",
         "offsetgroup": "decaps",
         "orientation": "v",
         "showlegend": false,
         "text": [
          "decaps",
          "decaps",
          "decaps"
         ],
         "textposition": "auto",
         "type": "bar",
         "x": [
          "trad",
          "pqc",
          "hybrid"
         ],
         "xaxis": "x",
         "y": [
          36505.1,
          157894.3943943944,
          18185.8
         ],
         "yaxis": "y"
        }
       ],
       "layout": {
        "annotations": [
         {
          "font": {},
          "showarrow": false,
          "text": "Platform=i7",
          "textangle": 90,
          "x": 0.98,
          "xanchor": "left",
          "xref": "paper",
          "y": 0.2425,
          "yanchor": "middle",
          "yref": "paper"
         },
         {
          "font": {},
          "showarrow": false,
          "text": "Platform=rpi3b",
          "textangle": 90,
          "x": 0.98,
          "xanchor": "left",
          "xref": "paper",
          "y": 0.7575000000000001,
          "yanchor": "middle",
          "yref": "paper"
         }
        ],
        "autosize": false,
        "barmode": "stack",
        "height": 800,
        "legend": {
         "title": {
          "text": "Operation"
         },
         "tracegroupgap": 0
        },
        "margin": {
         "t": 60
        },
        "showlegend": false,
        "template": {
         "data": {
          "bar": [
           {
            "error_x": {
             "color": "#2a3f5f"
            },
            "error_y": {
             "color": "#2a3f5f"
            },
            "marker": {
             "line": {
              "color": "#E5ECF6",
              "width": 0.5
             },
             "pattern": {
              "fillmode": "overlay",
              "size": 10,
              "solidity": 0.2
             }
            },
            "type": "bar"
           }
          ],
          "barpolar": [
           {
            "marker": {
             "line": {
              "color": "#E5ECF6",
              "width": 0.5
             },
             "pattern": {
              "fillmode": "overlay",
              "size": 10,
              "solidity": 0.2
             }
            },
            "type": "barpolar"
           }
          ],
          "carpet": [
           {
            "aaxis": {
             "endlinecolor": "#2a3f5f",
             "gridcolor": "white",
             "linecolor": "white",
             "minorgridcolor": "white",
             "startlinecolor": "#2a3f5f"
            },
            "baxis": {
             "endlinecolor": "#2a3f5f",
             "gridcolor": "white",
             "linecolor": "white",
             "minorgridcolor": "white",
             "startlinecolor": "#2a3f5f"
            },
            "type": "carpet"
           }
          ],
          "choropleth": [
           {
            "colorbar": {
             "outlinewidth": 0,
             "ticks": ""
            },
            "type": "choropleth"
           }
          ],
          "contour": [
           {
            "colorbar": {
             "outlinewidth": 0,
             "ticks": ""
            },
            "colorscale": [
             [
              0,
              "#0d0887"
             ],
             [
              0.1111111111111111,
              "#46039f"
             ],
             [
              0.2222222222222222,
              "#7201a8"
             ],
             [
              0.3333333333333333,
              "#9c179e"
             ],
             [
              0.4444444444444444,
              "#bd3786"
             ],
             [
              0.5555555555555556,
              "#d8576b"
             ],
             [
              0.6666666666666666,
              "#ed7953"
             ],
             [
              0.7777777777777778,
              "#fb9f3a"
             ],
             [
              0.8888888888888888,
              "#fdca26"
             ],
             [
              1,
              "#f0f921"
             ]
            ],
            "type": "contour"
           }
          ],
          "contourcarpet": [
           {
            "colorbar": {
             "outlinewidth": 0,
             "ticks": ""
            },
            "type": "contourcarpet"
           }
          ],
          "heatmap": [
           {
            "colorbar": {
             "outlinewidth": 0,
             "ticks": ""
            },
            "colorscale": [
             [
              0,
              "#0d0887"
             ],
             [
              0.1111111111111111,
              "#46039f"
             ],
             [
              0.2222222222222222,
              "#7201a8"
             ],
             [
              0.3333333333333333,
              "#9c179e"
             ],
             [
              0.4444444444444444,
              "#bd3786"
             ],
             [
              0.5555555555555556,
              "#d8576b"
             ],
             [
              0.6666666666666666,
              "#ed7953"
             ],
             [
              0.7777777777777778,
              "#fb9f3a"
             ],
             [
              0.8888888888888888,
              "#fdca26"
             ],
             [
              1,
              "#f0f921"
             ]
            ],
            "type": "heatmap"
           }
          ],
          "heatmapgl": [
           {
            "colorbar": {
             "outlinewidth": 0,
             "ticks": ""
            },
            "colorscale": [
             [
              0,
              "#0d0887"
             ],
             [
              0.1111111111111111,
              "#46039f"
             ],
             [
              0.2222222222222222,
              "#7201a8"
             ],
             [
              0.3333333333333333,
              "#9c179e"
             ],
             [
              0.4444444444444444,
              "#bd3786"
             ],
             [
              0.5555555555555556,
              "#d8576b"
             ],
             [
              0.6666666666666666,
              "#ed7953"
             ],
             [
              0.7777777777777778,
              "#fb9f3a"
             ],
             [
              0.8888888888888888,
              "#fdca26"
             ],
             [
              1,
              "#f0f921"
             ]
            ],
            "type": "heatmapgl"
           }
          ],
          "histogram": [
           {
            "marker": {
             "pattern": {
              "fillmode": "overlay",
              "size": 10,
              "solidity": 0.2
             }
            },
            "type": "histogram"
           }
          ],
          "histogram2d": [
           {
            "colorbar": {
             "outlinewidth": 0,
             "ticks": ""
            },
            "colorscale": [
             [
              0,
              "#0d0887"
             ],
             [
              0.1111111111111111,
              "#46039f"
             ],
             [
              0.2222222222222222,
              "#7201a8"
             ],
             [
              0.3333333333333333,
              "#9c179e"
             ],
             [
              0.4444444444444444,
              "#bd3786"
             ],
             [
              0.5555555555555556,
              "#d8576b"
             ],
             [
              0.6666666666666666,
              "#ed7953"
             ],
             [
              0.7777777777777778,
              "#fb9f3a"
             ],
             [
              0.8888888888888888,
              "#fdca26"
             ],
             [
              1,
              "#f0f921"
             ]
            ],
            "type": "histogram2d"
           }
          ],
          "histogram2dcontour": [
           {
            "colorbar": {
             "outlinewidth": 0,
             "ticks": ""
            },
            "colorscale": [
             [
              0,
              "#0d0887"
             ],
             [
              0.1111111111111111,
              "#46039f"
             ],
             [
              0.2222222222222222,
              "#7201a8"
             ],
             [
              0.3333333333333333,
              "#9c179e"
             ],
             [
              0.4444444444444444,
              "#bd3786"
             ],
             [
              0.5555555555555556,
              "#d8576b"
             ],
             [
              0.6666666666666666,
              "#ed7953"
             ],
             [
              0.7777777777777778,
              "#fb9f3a"
             ],
             [
              0.8888888888888888,
              "#fdca26"
             ],
             [
              1,
              "#f0f921"
             ]
            ],
            "type": "histogram2dcontour"
           }
          ],
          "mesh3d": [
           {
            "colorbar": {
             "outlinewidth": 0,
             "ticks": ""
            },
            "type": "mesh3d"
           }
          ],
          "parcoords": [
           {
            "line": {
             "colorbar": {
              "outlinewidth": 0,
              "ticks": ""
             }
            },
            "type": "parcoords"
           }
          ],
          "pie": [
           {
            "automargin": true,
            "type": "pie"
           }
          ],
          "scatter": [
           {
            "fillpattern": {
             "fillmode": "overlay",
             "size": 10,
             "solidity": 0.2
            },
            "type": "scatter"
           }
          ],
          "scatter3d": [
           {
            "line": {
             "colorbar": {
              "outlinewidth": 0,
              "ticks": ""
             }
            },
            "marker": {
             "colorbar": {
              "outlinewidth": 0,
              "ticks": ""
             }
            },
            "type": "scatter3d"
           }
          ],
          "scattercarpet": [
           {
            "marker": {
             "colorbar": {
              "outlinewidth": 0,
              "ticks": ""
             }
            },
            "type": "scattercarpet"
           }
          ],
          "scattergeo": [
           {
            "marker": {
             "colorbar": {
              "outlinewidth": 0,
              "ticks": ""
             }
            },
            "type": "scattergeo"
           }
          ],
          "scattergl": [
           {
            "marker": {
             "colorbar": {
              "outlinewidth": 0,
              "ticks": ""
             }
            },
            "type": "scattergl"
           }
          ],
          "scattermapbox": [
           {
            "marker": {
             "colorbar": {
              "outlinewidth": 0,
              "ticks": ""
             }
            },
            "type": "scattermapbox"
           }
          ],
          "scatterpolar": [
           {
            "marker": {
             "colorbar": {
              "outlinewidth": 0,
              "ticks": ""
             }
            },
            "type": "scatterpolar"
           }
          ],
          "scatterpolargl": [
           {
            "marker": {
             "colorbar": {
              "outlinewidth": 0,
              "ticks": ""
             }
            },
            "type": "scatterpolargl"
           }
          ],
          "scatterternary": [
           {
            "marker": {
             "colorbar": {
              "outlinewidth": 0,
              "ticks": ""
             }
            },
            "type": "scatterternary"
           }
          ],
          "surface": [
           {
            "colorbar": {
             "outlinewidth": 0,
             "ticks": ""
            },
            "colorscale": [
             [
              0,
              "#0d0887"
             ],
             [
              0.1111111111111111,
              "#46039f"
             ],
             [
              0.2222222222222222,
              "#7201a8"
             ],
             [
              0.3333333333333333,
              "#9c179e"
             ],
             [
              0.4444444444444444,
              "#bd3786"
             ],
             [
              0.5555555555555556,
              "#d8576b"
             ],
             [
              0.6666666666666666,
              "#ed7953"
             ],
             [
              0.7777777777777778,
              "#fb9f3a"
             ],
             [
              0.8888888888888888,
              "#fdca26"
             ],
             [
              1,
              "#f0f921"
             ]
            ],
            "type": "surface"
           }
          ],
          "table": [
           {
            "cells": {
             "fill": {
              "color": "#EBF0F8"
             },
             "line": {
              "color": "white"
             }
            },
            "header": {
             "fill": {
              "color": "#C8D4E3"
             },
             "line": {
              "color": "white"
             }
            },
            "type": "table"
           }
          ]
         },
         "layout": {
          "annotationdefaults": {
           "arrowcolor": "#2a3f5f",
           "arrowhead": 0,
           "arrowwidth": 1
          },
          "autotypenumbers": "strict",
          "coloraxis": {
           "colorbar": {
            "outlinewidth": 0,
            "ticks": ""
           }
          },
          "colorscale": {
           "diverging": [
            [
             0,
             "#8e0152"
            ],
            [
             0.1,
             "#c51b7d"
            ],
            [
             0.2,
             "#de77ae"
            ],
            [
             0.3,
             "#f1b6da"
            ],
            [
             0.4,
             "#fde0ef"
            ],
            [
             0.5,
             "#f7f7f7"
            ],
            [
             0.6,
             "#e6f5d0"
            ],
            [
             0.7,
             "#b8e186"
            ],
            [
             0.8,
             "#7fbc41"
            ],
            [
             0.9,
             "#4d9221"
            ],
            [
             1,
             "#276419"
            ]
           ],
           "sequential": [
            [
             0,
             "#0d0887"
            ],
            [
             0.1111111111111111,
             "#46039f"
            ],
            [
             0.2222222222222222,
             "#7201a8"
            ],
            [
             0.3333333333333333,
             "#9c179e"
            ],
            [
             0.4444444444444444,
             "#bd3786"
            ],
            [
             0.5555555555555556,
             "#d8576b"
            ],
            [
             0.6666666666666666,
             "#ed7953"
            ],
            [
             0.7777777777777778,
             "#fb9f3a"
            ],
            [
             0.8888888888888888,
             "#fdca26"
            ],
            [
             1,
             "#f0f921"
            ]
           ],
           "sequentialminus": [
            [
             0,
             "#0d0887"
            ],
            [
             0.1111111111111111,
             "#46039f"
            ],
            [
             0.2222222222222222,
             "#7201a8"
            ],
            [
             0.3333333333333333,
             "#9c179e"
            ],
            [
             0.4444444444444444,
             "#bd3786"
            ],
            [
             0.5555555555555556,
             "#d8576b"
            ],
            [
             0.6666666666666666,
             "#ed7953"
            ],
            [
             0.7777777777777778,
             "#fb9f3a"
            ],
            [
             0.8888888888888888,
             "#fdca26"
            ],
            [
             1,
             "#f0f921"
            ]
           ]
          },
          "colorway": [
           "#636efa",
           "#EF553B",
           "#00cc96",
           "#ab63fa",
           "#FFA15A",
           "#19d3f3",
           "#FF6692",
           "#B6E880",
           "#FF97FF",
           "#FECB52"
          ],
          "font": {
           "color": "#2a3f5f"
          },
          "geo": {
           "bgcolor": "white",
           "lakecolor": "white",
           "landcolor": "#E5ECF6",
           "showlakes": true,
           "showland": true,
           "subunitcolor": "white"
          },
          "hoverlabel": {
           "align": "left"
          },
          "hovermode": "closest",
          "mapbox": {
           "style": "light"
          },
          "paper_bgcolor": "white",
          "plot_bgcolor": "#E5ECF6",
          "polar": {
           "angularaxis": {
            "gridcolor": "white",
            "linecolor": "white",
            "ticks": ""
           },
           "bgcolor": "#E5ECF6",
           "radialaxis": {
            "gridcolor": "white",
            "linecolor": "white",
            "ticks": ""
           }
          },
          "scene": {
           "xaxis": {
            "backgroundcolor": "#E5ECF6",
            "gridcolor": "white",
            "gridwidth": 2,
            "linecolor": "white",
            "showbackground": true,
            "ticks": "",
            "zerolinecolor": "white"
           },
           "yaxis": {
            "backgroundcolor": "#E5ECF6",
            "gridcolor": "white",
            "gridwidth": 2,
            "linecolor": "white",
            "showbackground": true,
            "ticks": "",
            "zerolinecolor": "white"
           },
           "zaxis": {
            "backgroundcolor": "#E5ECF6",
            "gridcolor": "white",
            "gridwidth": 2,
            "linecolor": "white",
            "showbackground": true,
            "ticks": "",
            "zerolinecolor": "white"
           }
          },
          "shapedefaults": {
           "line": {
            "color": "#2a3f5f"
           }
          },
          "ternary": {
           "aaxis": {
            "gridcolor": "white",
            "linecolor": "white",
            "ticks": ""
           },
           "baxis": {
            "gridcolor": "white",
            "linecolor": "white",
            "ticks": ""
           },
           "bgcolor": "#E5ECF6",
           "caxis": {
            "gridcolor": "white",
            "linecolor": "white",
            "ticks": ""
           }
          },
          "title": {
           "x": 0.05
          },
          "xaxis": {
           "automargin": true,
           "gridcolor": "white",
           "linecolor": "white",
           "ticks": "",
           "title": {
            "standoff": 15
           },
           "zerolinecolor": "white",
           "zerolinewidth": 2
          },
          "yaxis": {
           "automargin": true,
           "gridcolor": "white",
           "linecolor": "white",
           "ticks": "",
           "title": {
            "standoff": 15
           },
           "zerolinecolor": "white",
           "zerolinewidth": 2
          }
         }
        },
        "width": 1200,
        "xaxis": {
         "anchor": "y",
         "domain": [
          0,
          0.98
         ],
         "title": {
          "text": "type"
         }
        },
        "xaxis2": {
         "anchor": "y2",
         "domain": [
          0,
          0.98
         ],
         "matches": "x",
         "showticklabels": false
        },
        "yaxis": {
         "anchor": "x",
         "domain": [
          0,
          0.485
         ],
         "title": {
          "text": "Operations/sec (higher is better)"
         }
        },
        "yaxis2": {
         "anchor": "x2",
         "domain": [
          0.515,
          1
         ],
         "title": {
          "text": "Operations/sec (higher is better)"
         }
        }
       }
      }
     },
     "metadata": {},
     "output_type": "display_data"
    },
    {
     "name": "stdout",
     "output_type": "stream",
     "text": [
      "                alg      op    sec      ops    ops_per_sec platform    type  \\\n",
      "0            x25519  keygen   9.94    20086    2020.724346    rpi3b    trad   \n",
      "1            x25519  encaps  10.00     5452     545.200000    rpi3b    trad   \n",
      "2            x25519  decaps  10.00     7734     773.400000    rpi3b    trad   \n",
      "3          kyber512  keygen   9.99    14291    1430.530531    rpi3b     pqc   \n",
      "4          kyber512  encaps   9.99    11280    1129.129129    rpi3b     pqc   \n",
      "5          kyber512  decaps  10.00    11330    1133.000000    rpi3b     pqc   \n",
      "6   x25519_kyber512  keygen  10.00     8193     819.300000    rpi3b  hybrid   \n",
      "7   x25519_kyber512  encaps  10.00     3755     375.500000    rpi3b  hybrid   \n",
      "8   x25519_kyber512  decaps  10.00     3775     377.500000    rpi3b  hybrid   \n",
      "9          kyber768  keygen   9.99     8979     898.798799    rpi3b     pqc   \n",
      "10         kyber768  encaps   9.99     7104     711.111111    rpi3b     pqc   \n",
      "11         kyber768  decaps  10.00     7177     717.700000    rpi3b     pqc   \n",
      "12  x25519_kyber768  keygen   9.99     6112     611.811812    rpi3b  hybrid   \n",
      "13  x25519_kyber768  encaps  10.00     3144     314.400000    rpi3b  hybrid   \n",
      "14  x25519_kyber768  decaps  10.00     3168     316.800000    rpi3b  hybrid   \n",
      "15        kyber1024  keygen   9.99     5791     579.679680    rpi3b     pqc   \n",
      "16        kyber1024  encaps  10.00     4783     478.300000    rpi3b     pqc   \n",
      "17        kyber1024  decaps  10.00     4845     484.500000    rpi3b     pqc   \n",
      "18       dilithium2  keygen   9.98     4522     453.106212    rpi3b     pqc   \n",
      "19       dilithium2   signs   9.99     1568     156.956957    rpi3b     pqc   \n",
      "20       dilithium2  verify  10.00     4510     451.000000    rpi3b     pqc   \n",
      "21  p256_dilithium2  keygen   9.99     1281     128.228228    rpi3b  hybrid   \n",
      "22  p256_dilithium2   signs  10.01     1454     145.254745    rpi3b  hybrid   \n",
      "23  p256_dilithium2  verify  10.00     2800     280.000000    rpi3b  hybrid   \n",
      "24       dilithium3  keygen  10.00     2566     256.600000    rpi3b     pqc   \n",
      "25       dilithium3   signs  10.01      973      97.202797    rpi3b     pqc   \n",
      "26       dilithium3  verify  10.00     2660     266.000000    rpi3b     pqc   \n",
      "27  p384_dilithium3  keygen   9.99      392      39.239239    rpi3b  hybrid   \n",
      "28  p384_dilithium3   signs  10.01      368      36.763237    rpi3b  hybrid   \n",
      "29  p384_dilithium3  verify  10.02      606      60.479042    rpi3b  hybrid   \n",
      "0            x25519  keygen   9.98   448872   44977.154309       i7    trad   \n",
      "1            x25519  encaps   9.98   188835   18921.342685       i7    trad   \n",
      "2            x25519  decaps  10.00   365051   36505.100000       i7    trad   \n",
      "3          kyber512  keygen   9.83  1318721  134152.695829       i7     pqc   \n",
      "4          kyber512  encaps   9.91  1159403  116993.239152       i7     pqc   \n",
      "5          kyber512  decaps   9.99  1577365  157894.394394       i7     pqc   \n",
      "6   x25519_kyber512  keygen   9.94   296202   29798.993964       i7  hybrid   \n",
      "7   x25519_kyber512  encaps   9.97   165941   16644.032096       i7  hybrid   \n",
      "8   x25519_kyber512  decaps  10.00   181858   18185.800000       i7  hybrid   \n",
      "9          kyber768  keygen   9.90   877995   88686.363636       i7     pqc   \n",
      "10         kyber768  encaps   9.93   745843   75110.070493       i7     pqc   \n",
      "11         kyber768  decaps  10.00   936985   93698.500000       i7     pqc   \n",
      "12  x25519_kyber768  keygen   9.94   262894   26448.088531       i7  hybrid   \n",
      "13  x25519_kyber768  encaps   9.97   163887   16438.014042       i7  hybrid   \n",
      "14  x25519_kyber768  decaps  10.00   173418   17341.800000       i7  hybrid   \n",
      "15        kyber1024  keygen   9.91   621331   62697.376387       i7     pqc   \n",
      "16        kyber1024  encaps   9.96   568225   57050.702811       i7     pqc   \n",
      "17        kyber1024  decaps   9.99   726990   72771.771772       i7     pqc   \n",
      "18       dilithium2  keygen   9.97   457353   45872.918756       i7     pqc   \n",
      "19       dilithium2   signs   9.99   187347   18753.453453       i7     pqc   \n",
      "20       dilithium2  verify   9.99   476203   47667.967968       i7     pqc   \n",
      "21  p256_dilithium2  keygen   9.98    23213    2325.951904       i7  hybrid   \n",
      "22  p256_dilithium2   signs   9.98   126563   12681.663327       i7  hybrid   \n",
      "23  p256_dilithium2  verify   9.99   120905   12102.602603       i7  hybrid   \n",
      "24       dilithium3  keygen   9.99   269660   26992.992993       i7     pqc   \n",
      "25       dilithium3   signs   9.99   115608   11572.372372       i7     pqc   \n",
      "26       dilithium3  verify  10.00   302694   30269.400000       i7     pqc   \n",
      "27  p384_dilithium3  keygen  10.00    11645    1164.500000       i7  hybrid   \n",
      "28  p384_dilithium3   signs   9.99    16449    1646.546547       i7  hybrid   \n",
      "29  p384_dilithium3  verify  10.00    21395    2139.500000       i7  hybrid   \n",
      "\n",
      "    key_size  \n",
      "0        256  \n",
      "1        256  \n",
      "2        256  \n",
      "3        512  \n",
      "4        512  \n",
      "5        512  \n",
      "6        512  \n",
      "7        512  \n",
      "8        512  \n",
      "9        768  \n",
      "10       768  \n",
      "11       768  \n",
      "12       768  \n",
      "13       768  \n",
      "14       768  \n",
      "15      1024  \n",
      "16      1024  \n",
      "17      1024  \n",
      "18       512  \n",
      "19       512  \n",
      "20       512  \n",
      "21       512  \n",
      "22       512  \n",
      "23       512  \n",
      "24       768  \n",
      "25       768  \n",
      "26       768  \n",
      "27       768  \n",
      "28       768  \n",
      "29       768  \n",
      "0        256  \n",
      "1        256  \n",
      "2        256  \n",
      "3        512  \n",
      "4        512  \n",
      "5        512  \n",
      "6        512  \n",
      "7        512  \n",
      "8        512  \n",
      "9        768  \n",
      "10       768  \n",
      "11       768  \n",
      "12       768  \n",
      "13       768  \n",
      "14       768  \n",
      "15      1024  \n",
      "16      1024  \n",
      "17      1024  \n",
      "18       512  \n",
      "19       512  \n",
      "20       512  \n",
      "21       512  \n",
      "22       512  \n",
      "23       512  \n",
      "24       768  \n",
      "25       768  \n",
      "26       768  \n",
      "27       768  \n",
      "28       768  \n",
      "29       768  \n"
     ]
    }
   ],
   "source": [
    "import plotly.express as px\n",
    "from plotly.subplots import make_subplots\n",
    "# Filter the data for the required groups and operations\n",
    "\n",
    "all_results[\"type\"] = np.where(\n",
    "    all_results[\"alg\"].str.contains(\"_\"), \n",
    "    \"hybrid\", \n",
    "    np.where(\n",
    "        all_results[\"alg\"].isin([\"kyber512\", \"kyber768\", \"kyber1024\", \"dilithium2\", \"dilithium3\"]), \n",
    "        \"pqc\", \n",
    "        \"trad\"\n",
    "    )\n",
    ")\n",
    "\n",
    "def key_size(row):\n",
    "    if \"kyber\" in row[\"alg\"]:\n",
    "        return int(row[\"alg\"].split(\"kyber\")[1])\n",
    "    elif \"dilithium\" in row[\"alg\"]:\n",
    "        return int(row[\"alg\"].split(\"dilithium\")[1]) * 256\n",
    "    elif \"x25519\" in row[\"alg\"]:\n",
    "        return 256\n",
    "    elif \"p256\" in row[\"alg\"]:\n",
    "        return 256\n",
    "    elif \"p384\" in row[\"alg\"]:\n",
    "        return 384\n",
    "    elif \"ECDSA-SHA2-256\" in row[\"alg\"]:\n",
    "        return 256\n",
    "    elif \"ECDSA-SHA2-384\" in row[\"alg\"]:\n",
    "        return 384\n",
    "    else:\n",
    "        return None\n",
    "\n",
    "all_results[\"key_size\"] = all_results.apply(key_size, axis=1)\n",
    "\n",
    "# print(all_results)\n",
    "# all_results[\"key_size\"] = all_results.apply(key_size, axis=1)\n",
    "def compare_algs(algs, platform):\n",
    "    filtered_df = all_results[\n",
    "        (all_results[\"alg\"].isin(algs))\n",
    "        # (all_results[\"platform\"] == platform)\n",
    "    ]\n",
    "    # fig = px.bar(\n",
    "    #     filtered_df, \n",
    "    #     x=\"op\", \n",
    "    #     y=\"ops_per_sec\", \n",
    "    #     color=\"alg\", \n",
    "    #     barmode=\"stack\", \n",
    "    #     labels={\"ops_per_sec\": \"ops/sec (higher is better)\"},\n",
    "    #     facet_row=\"platform\",\n",
    "    #     facet_col=\"alg\",\n",
    "    #     text=\"op\"\n",
    "    # )\n",
    "    # fig = px.bar(\n",
    "    #     filtered_df, \n",
    "    #     x=\"op\", \n",
    "    #     y=\"ops_per_sec\", \n",
    "    #     color=\"type\", \n",
    "    #     barmode=\"group\", \n",
    "    #     labels={\"ops_per_sec\": \"ops/sec (higher is better)\", \"op\": \"Operation\", \"platform\": \"Platform\"},\n",
    "    #     facet_row=\"platform\",\n",
    "    #     # facet_col=\"key_size\",\n",
    "    #     text=\"type\"\n",
    "    # )\n",
    "    fig = px.bar(\n",
    "        filtered_df, \n",
    "        x=\"type\", \n",
    "        y=\"ops_per_sec\", \n",
    "        color=\"op\", \n",
    "        barmode=\"stack\", \n",
    "        labels={\"ops_per_sec\": \"Operations/sec (higher is better)\", \"op\": \"Operation\", \"platform\": \"Platform\"},\n",
    "        facet_row=\"platform\",\n",
    "        # facet_col=\"key_size\",\n",
    "        text=\"op\"\n",
    "    )\n",
    "    fig.update_layout(showlegend=False)\n",
    "    fig.update_yaxes(matches=None)\n",
    "    fig.update_layout(\n",
    "        autosize=False,\n",
    "        width=1200,\n",
    "        height=800,\n",
    "    )\n",
    "    fig.show()\n",
    "    fig.write_image(f\"ops_per_sec.png\")\n",
    "compare_algs([\"x25519\",\"x25519_kyber512\", \"kyber512\"], \"rpi3b\")\n",
    "print(all_results)"
   ]
  },
  {
   "cell_type": "code",
   "execution_count": 71,
   "metadata": {},
   "outputs": [
    {
     "data": {
      "text/html": [
       "<div>\n",
       "<style scoped>\n",
       "    .dataframe tbody tr th:only-of-type {\n",
       "        vertical-align: middle;\n",
       "    }\n",
       "\n",
       "    .dataframe tbody tr th {\n",
       "        vertical-align: top;\n",
       "    }\n",
       "\n",
       "    .dataframe thead th {\n",
       "        text-align: right;\n",
       "    }\n",
       "</style>\n",
       "<table border=\"1\" class=\"dataframe\">\n",
       "  <thead>\n",
       "    <tr style=\"text-align: right;\">\n",
       "      <th></th>\n",
       "      <th>alg</th>\n",
       "      <th>sec</th>\n",
       "      <th>ops</th>\n",
       "      <th>ops_per_sec</th>\n",
       "    </tr>\n",
       "  </thead>\n",
       "  <tbody>\n",
       "    <tr>\n",
       "      <th>0</th>\n",
       "      <td>X25519</td>\n",
       "      <td>9.98</td>\n",
       "      <td>448872</td>\n",
       "      <td>44977.154309</td>\n",
       "    </tr>\n",
       "    <tr>\n",
       "      <th>1</th>\n",
       "      <td>X25519</td>\n",
       "      <td>9.98</td>\n",
       "      <td>188835</td>\n",
       "      <td>18921.342685</td>\n",
       "    </tr>\n",
       "    <tr>\n",
       "      <th>2</th>\n",
       "      <td>X25519</td>\n",
       "      <td>10.00</td>\n",
       "      <td>365051</td>\n",
       "      <td>36505.100000</td>\n",
       "    </tr>\n",
       "    <tr>\n",
       "      <th>3</th>\n",
       "      <td>kyber512</td>\n",
       "      <td>9.83</td>\n",
       "      <td>1318721</td>\n",
       "      <td>134152.695829</td>\n",
       "    </tr>\n",
       "    <tr>\n",
       "      <th>4</th>\n",
       "      <td>kyber512</td>\n",
       "      <td>9.91</td>\n",
       "      <td>1159403</td>\n",
       "      <td>116993.239152</td>\n",
       "    </tr>\n",
       "    <tr>\n",
       "      <th>5</th>\n",
       "      <td>kyber512</td>\n",
       "      <td>9.99</td>\n",
       "      <td>1577365</td>\n",
       "      <td>157894.394394</td>\n",
       "    </tr>\n",
       "    <tr>\n",
       "      <th>6</th>\n",
       "      <td>x25519_kyber512</td>\n",
       "      <td>9.94</td>\n",
       "      <td>296202</td>\n",
       "      <td>29798.993964</td>\n",
       "    </tr>\n",
       "    <tr>\n",
       "      <th>7</th>\n",
       "      <td>x25519_kyber512</td>\n",
       "      <td>9.97</td>\n",
       "      <td>165941</td>\n",
       "      <td>16644.032096</td>\n",
       "    </tr>\n",
       "    <tr>\n",
       "      <th>8</th>\n",
       "      <td>x25519_kyber512</td>\n",
       "      <td>10.00</td>\n",
       "      <td>181858</td>\n",
       "      <td>18185.800000</td>\n",
       "    </tr>\n",
       "    <tr>\n",
       "      <th>9</th>\n",
       "      <td>kyber768</td>\n",
       "      <td>9.90</td>\n",
       "      <td>877995</td>\n",
       "      <td>88686.363636</td>\n",
       "    </tr>\n",
       "    <tr>\n",
       "      <th>10</th>\n",
       "      <td>kyber768</td>\n",
       "      <td>9.93</td>\n",
       "      <td>745843</td>\n",
       "      <td>75110.070493</td>\n",
       "    </tr>\n",
       "    <tr>\n",
       "      <th>11</th>\n",
       "      <td>kyber768</td>\n",
       "      <td>10.00</td>\n",
       "      <td>936985</td>\n",
       "      <td>93698.500000</td>\n",
       "    </tr>\n",
       "    <tr>\n",
       "      <th>12</th>\n",
       "      <td>x25519_kyber768</td>\n",
       "      <td>9.94</td>\n",
       "      <td>262894</td>\n",
       "      <td>26448.088531</td>\n",
       "    </tr>\n",
       "    <tr>\n",
       "      <th>13</th>\n",
       "      <td>x25519_kyber768</td>\n",
       "      <td>9.97</td>\n",
       "      <td>163887</td>\n",
       "      <td>16438.014042</td>\n",
       "    </tr>\n",
       "    <tr>\n",
       "      <th>14</th>\n",
       "      <td>x25519_kyber768</td>\n",
       "      <td>10.00</td>\n",
       "      <td>173418</td>\n",
       "      <td>17341.800000</td>\n",
       "    </tr>\n",
       "    <tr>\n",
       "      <th>15</th>\n",
       "      <td>kyber1024</td>\n",
       "      <td>9.91</td>\n",
       "      <td>621331</td>\n",
       "      <td>62697.376387</td>\n",
       "    </tr>\n",
       "    <tr>\n",
       "      <th>16</th>\n",
       "      <td>kyber1024</td>\n",
       "      <td>9.96</td>\n",
       "      <td>568225</td>\n",
       "      <td>57050.702811</td>\n",
       "    </tr>\n",
       "    <tr>\n",
       "      <th>17</th>\n",
       "      <td>kyber1024</td>\n",
       "      <td>9.99</td>\n",
       "      <td>726990</td>\n",
       "      <td>72771.771772</td>\n",
       "    </tr>\n",
       "    <tr>\n",
       "      <th>18</th>\n",
       "      <td>dilithium2</td>\n",
       "      <td>9.97</td>\n",
       "      <td>457353</td>\n",
       "      <td>45872.918756</td>\n",
       "    </tr>\n",
       "    <tr>\n",
       "      <th>19</th>\n",
       "      <td>dilithium2</td>\n",
       "      <td>9.99</td>\n",
       "      <td>187347</td>\n",
       "      <td>18753.453453</td>\n",
       "    </tr>\n",
       "    <tr>\n",
       "      <th>20</th>\n",
       "      <td>dilithium2</td>\n",
       "      <td>9.99</td>\n",
       "      <td>476203</td>\n",
       "      <td>47667.967968</td>\n",
       "    </tr>\n",
       "    <tr>\n",
       "      <th>21</th>\n",
       "      <td>p256_dilithium2</td>\n",
       "      <td>9.98</td>\n",
       "      <td>23213</td>\n",
       "      <td>2325.951904</td>\n",
       "    </tr>\n",
       "    <tr>\n",
       "      <th>22</th>\n",
       "      <td>p256_dilithium2</td>\n",
       "      <td>9.98</td>\n",
       "      <td>126563</td>\n",
       "      <td>12681.663327</td>\n",
       "    </tr>\n",
       "    <tr>\n",
       "      <th>23</th>\n",
       "      <td>p256_dilithium2</td>\n",
       "      <td>9.99</td>\n",
       "      <td>120905</td>\n",
       "      <td>12102.602603</td>\n",
       "    </tr>\n",
       "    <tr>\n",
       "      <th>24</th>\n",
       "      <td>dilithium3</td>\n",
       "      <td>9.99</td>\n",
       "      <td>269660</td>\n",
       "      <td>26992.992993</td>\n",
       "    </tr>\n",
       "    <tr>\n",
       "      <th>25</th>\n",
       "      <td>dilithium3</td>\n",
       "      <td>9.99</td>\n",
       "      <td>115608</td>\n",
       "      <td>11572.372372</td>\n",
       "    </tr>\n",
       "    <tr>\n",
       "      <th>26</th>\n",
       "      <td>dilithium3</td>\n",
       "      <td>10.00</td>\n",
       "      <td>302694</td>\n",
       "      <td>30269.400000</td>\n",
       "    </tr>\n",
       "    <tr>\n",
       "      <th>27</th>\n",
       "      <td>p384_dilithium3</td>\n",
       "      <td>10.00</td>\n",
       "      <td>11645</td>\n",
       "      <td>1164.500000</td>\n",
       "    </tr>\n",
       "    <tr>\n",
       "      <th>28</th>\n",
       "      <td>p384_dilithium3</td>\n",
       "      <td>9.99</td>\n",
       "      <td>16449</td>\n",
       "      <td>1646.546547</td>\n",
       "    </tr>\n",
       "    <tr>\n",
       "      <th>29</th>\n",
       "      <td>p384_dilithium3</td>\n",
       "      <td>10.00</td>\n",
       "      <td>21395</td>\n",
       "      <td>2139.500000</td>\n",
       "    </tr>\n",
       "  </tbody>\n",
       "</table>\n",
       "</div>"
      ],
      "text/plain": [
       "                alg    sec      ops    ops_per_sec\n",
       "0            X25519   9.98   448872   44977.154309\n",
       "1            X25519   9.98   188835   18921.342685\n",
       "2            X25519  10.00   365051   36505.100000\n",
       "3          kyber512   9.83  1318721  134152.695829\n",
       "4          kyber512   9.91  1159403  116993.239152\n",
       "5          kyber512   9.99  1577365  157894.394394\n",
       "6   x25519_kyber512   9.94   296202   29798.993964\n",
       "7   x25519_kyber512   9.97   165941   16644.032096\n",
       "8   x25519_kyber512  10.00   181858   18185.800000\n",
       "9          kyber768   9.90   877995   88686.363636\n",
       "10         kyber768   9.93   745843   75110.070493\n",
       "11         kyber768  10.00   936985   93698.500000\n",
       "12  x25519_kyber768   9.94   262894   26448.088531\n",
       "13  x25519_kyber768   9.97   163887   16438.014042\n",
       "14  x25519_kyber768  10.00   173418   17341.800000\n",
       "15        kyber1024   9.91   621331   62697.376387\n",
       "16        kyber1024   9.96   568225   57050.702811\n",
       "17        kyber1024   9.99   726990   72771.771772\n",
       "18       dilithium2   9.97   457353   45872.918756\n",
       "19       dilithium2   9.99   187347   18753.453453\n",
       "20       dilithium2   9.99   476203   47667.967968\n",
       "21  p256_dilithium2   9.98    23213    2325.951904\n",
       "22  p256_dilithium2   9.98   126563   12681.663327\n",
       "23  p256_dilithium2   9.99   120905   12102.602603\n",
       "24       dilithium3   9.99   269660   26992.992993\n",
       "25       dilithium3   9.99   115608   11572.372372\n",
       "26       dilithium3  10.00   302694   30269.400000\n",
       "27  p384_dilithium3  10.00    11645    1164.500000\n",
       "28  p384_dilithium3   9.99    16449    1646.546547\n",
       "29  p384_dilithium3  10.00    21395    2139.500000"
      ]
     },
     "execution_count": 71,
     "metadata": {},
     "output_type": "execute_result"
    }
   ],
   "source": [
    "lines = output.split(\"\\n\")\n",
    "rows = [line.split(\":\") for line in lines if line.startswith(\"+R\")]\n",
    "rows = [[row[2], float(row[3]), int(row[1])] for row in rows]\n",
    "df = pd.DataFrame(rows, columns=[\"alg\", \"sec\", \"ops\"])\n",
    "df[\"ops_per_sec\"] = df[\"ops\"] / df[\"sec\"]\n",
    "df"
   ]
  },
  {
   "cell_type": "code",
   "execution_count": 1,
   "metadata": {},
   "outputs": [
    {
     "data": {
      "text/plain": [
       "32"
      ]
     },
     "execution_count": 1,
     "metadata": {},
     "output_type": "execute_result"
    }
   ],
   "source": [
    "def dot_product(u: list[int], v: list[int]) -> int:\n",
    "    if len(u) != len(v):\n",
    "        raise ValueError(\"Vectors must be of the same length\")\n",
    "    return sum(u[i] * v[i] for i in range(len(u)))\n",
    "\n",
    "dot_product([1, 2, 3], [4, 5, 6])\n"
   ]
  }
 ],
 "metadata": {
  "kernelspec": {
   "display_name": "lc2",
   "language": "python",
   "name": "python3"
  },
  "language_info": {
   "codemirror_mode": {
    "name": "ipython",
    "version": 3
   },
   "file_extension": ".py",
   "mimetype": "text/x-python",
   "name": "python",
   "nbconvert_exporter": "python",
   "pygments_lexer": "ipython3",
   "version": "3.12.7"
  }
 },
 "nbformat": 4,
 "nbformat_minor": 2
}
